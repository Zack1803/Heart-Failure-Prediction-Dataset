{
  "nbformat": 4,
  "nbformat_minor": 0,
  "metadata": {
    "colab": {
      "name": "Heart Failure Prediction Dataset",
      "provenance": [],
      "collapsed_sections": [
        "cG24pAbrYryN",
        "NwyLaOcGoBub",
        "S1Gsu5NM2_b2"
      ]
    },
    "kernelspec": {
      "name": "python3",
      "display_name": "Python 3"
    },
    "language_info": {
      "name": "python"
    }
  },
  "cells": [
    {
      "cell_type": "code",
      "execution_count": 36,
      "metadata": {
        "id": "NDXhxpnxVNan"
      },
      "outputs": [],
      "source": [
        "import pandas as pd\n",
        "import numpy as np\n",
        "import matplotlib.pyplot as plt"
      ]
    },
    {
      "cell_type": "code",
      "source": [
        "df= pd.read_csv('heart.csv')"
      ],
      "metadata": {
        "id": "DzCQBqftVV2D"
      },
      "execution_count": 37,
      "outputs": []
    },
    {
      "cell_type": "markdown",
      "source": [
        "# Exploratory Data Analysis"
      ],
      "metadata": {
        "id": "3SmI1fp1YOeO"
      }
    },
    {
      "cell_type": "code",
      "source": [
        "df.head()"
      ],
      "metadata": {
        "colab": {
          "base_uri": "https://localhost:8080/",
          "height": 206
        },
        "id": "W8uUVhsxV7WF",
        "outputId": "3ea381f9-a5c1-4680-bf86-ef6f8cf37dda"
      },
      "execution_count": 38,
      "outputs": [
        {
          "output_type": "execute_result",
          "data": {
            "text/plain": [
              "   Age Sex ChestPainType  RestingBP  Cholesterol  FastingBS RestingECG  MaxHR  \\\n",
              "0   40   M           ATA        140          289          0     Normal    172   \n",
              "1   49   F           NAP        160          180          0     Normal    156   \n",
              "2   37   M           ATA        130          283          0         ST     98   \n",
              "3   48   F           ASY        138          214          0     Normal    108   \n",
              "4   54   M           NAP        150          195          0     Normal    122   \n",
              "\n",
              "  ExerciseAngina  Oldpeak ST_Slope  HeartDisease  \n",
              "0              N      0.0       Up             0  \n",
              "1              N      1.0     Flat             1  \n",
              "2              N      0.0       Up             0  \n",
              "3              Y      1.5     Flat             1  \n",
              "4              N      0.0       Up             0  "
            ],
            "text/html": [
              "\n",
              "  <div id=\"df-18a966ae-130f-47e0-a996-53b30be7c9ec\">\n",
              "    <div class=\"colab-df-container\">\n",
              "      <div>\n",
              "<style scoped>\n",
              "    .dataframe tbody tr th:only-of-type {\n",
              "        vertical-align: middle;\n",
              "    }\n",
              "\n",
              "    .dataframe tbody tr th {\n",
              "        vertical-align: top;\n",
              "    }\n",
              "\n",
              "    .dataframe thead th {\n",
              "        text-align: right;\n",
              "    }\n",
              "</style>\n",
              "<table border=\"1\" class=\"dataframe\">\n",
              "  <thead>\n",
              "    <tr style=\"text-align: right;\">\n",
              "      <th></th>\n",
              "      <th>Age</th>\n",
              "      <th>Sex</th>\n",
              "      <th>ChestPainType</th>\n",
              "      <th>RestingBP</th>\n",
              "      <th>Cholesterol</th>\n",
              "      <th>FastingBS</th>\n",
              "      <th>RestingECG</th>\n",
              "      <th>MaxHR</th>\n",
              "      <th>ExerciseAngina</th>\n",
              "      <th>Oldpeak</th>\n",
              "      <th>ST_Slope</th>\n",
              "      <th>HeartDisease</th>\n",
              "    </tr>\n",
              "  </thead>\n",
              "  <tbody>\n",
              "    <tr>\n",
              "      <th>0</th>\n",
              "      <td>40</td>\n",
              "      <td>M</td>\n",
              "      <td>ATA</td>\n",
              "      <td>140</td>\n",
              "      <td>289</td>\n",
              "      <td>0</td>\n",
              "      <td>Normal</td>\n",
              "      <td>172</td>\n",
              "      <td>N</td>\n",
              "      <td>0.0</td>\n",
              "      <td>Up</td>\n",
              "      <td>0</td>\n",
              "    </tr>\n",
              "    <tr>\n",
              "      <th>1</th>\n",
              "      <td>49</td>\n",
              "      <td>F</td>\n",
              "      <td>NAP</td>\n",
              "      <td>160</td>\n",
              "      <td>180</td>\n",
              "      <td>0</td>\n",
              "      <td>Normal</td>\n",
              "      <td>156</td>\n",
              "      <td>N</td>\n",
              "      <td>1.0</td>\n",
              "      <td>Flat</td>\n",
              "      <td>1</td>\n",
              "    </tr>\n",
              "    <tr>\n",
              "      <th>2</th>\n",
              "      <td>37</td>\n",
              "      <td>M</td>\n",
              "      <td>ATA</td>\n",
              "      <td>130</td>\n",
              "      <td>283</td>\n",
              "      <td>0</td>\n",
              "      <td>ST</td>\n",
              "      <td>98</td>\n",
              "      <td>N</td>\n",
              "      <td>0.0</td>\n",
              "      <td>Up</td>\n",
              "      <td>0</td>\n",
              "    </tr>\n",
              "    <tr>\n",
              "      <th>3</th>\n",
              "      <td>48</td>\n",
              "      <td>F</td>\n",
              "      <td>ASY</td>\n",
              "      <td>138</td>\n",
              "      <td>214</td>\n",
              "      <td>0</td>\n",
              "      <td>Normal</td>\n",
              "      <td>108</td>\n",
              "      <td>Y</td>\n",
              "      <td>1.5</td>\n",
              "      <td>Flat</td>\n",
              "      <td>1</td>\n",
              "    </tr>\n",
              "    <tr>\n",
              "      <th>4</th>\n",
              "      <td>54</td>\n",
              "      <td>M</td>\n",
              "      <td>NAP</td>\n",
              "      <td>150</td>\n",
              "      <td>195</td>\n",
              "      <td>0</td>\n",
              "      <td>Normal</td>\n",
              "      <td>122</td>\n",
              "      <td>N</td>\n",
              "      <td>0.0</td>\n",
              "      <td>Up</td>\n",
              "      <td>0</td>\n",
              "    </tr>\n",
              "  </tbody>\n",
              "</table>\n",
              "</div>\n",
              "      <button class=\"colab-df-convert\" onclick=\"convertToInteractive('df-18a966ae-130f-47e0-a996-53b30be7c9ec')\"\n",
              "              title=\"Convert this dataframe to an interactive table.\"\n",
              "              style=\"display:none;\">\n",
              "        \n",
              "  <svg xmlns=\"http://www.w3.org/2000/svg\" height=\"24px\"viewBox=\"0 0 24 24\"\n",
              "       width=\"24px\">\n",
              "    <path d=\"M0 0h24v24H0V0z\" fill=\"none\"/>\n",
              "    <path d=\"M18.56 5.44l.94 2.06.94-2.06 2.06-.94-2.06-.94-.94-2.06-.94 2.06-2.06.94zm-11 1L8.5 8.5l.94-2.06 2.06-.94-2.06-.94L8.5 2.5l-.94 2.06-2.06.94zm10 10l.94 2.06.94-2.06 2.06-.94-2.06-.94-.94-2.06-.94 2.06-2.06.94z\"/><path d=\"M17.41 7.96l-1.37-1.37c-.4-.4-.92-.59-1.43-.59-.52 0-1.04.2-1.43.59L10.3 9.45l-7.72 7.72c-.78.78-.78 2.05 0 2.83L4 21.41c.39.39.9.59 1.41.59.51 0 1.02-.2 1.41-.59l7.78-7.78 2.81-2.81c.8-.78.8-2.07 0-2.86zM5.41 20L4 18.59l7.72-7.72 1.47 1.35L5.41 20z\"/>\n",
              "  </svg>\n",
              "      </button>\n",
              "      \n",
              "  <style>\n",
              "    .colab-df-container {\n",
              "      display:flex;\n",
              "      flex-wrap:wrap;\n",
              "      gap: 12px;\n",
              "    }\n",
              "\n",
              "    .colab-df-convert {\n",
              "      background-color: #E8F0FE;\n",
              "      border: none;\n",
              "      border-radius: 50%;\n",
              "      cursor: pointer;\n",
              "      display: none;\n",
              "      fill: #1967D2;\n",
              "      height: 32px;\n",
              "      padding: 0 0 0 0;\n",
              "      width: 32px;\n",
              "    }\n",
              "\n",
              "    .colab-df-convert:hover {\n",
              "      background-color: #E2EBFA;\n",
              "      box-shadow: 0px 1px 2px rgba(60, 64, 67, 0.3), 0px 1px 3px 1px rgba(60, 64, 67, 0.15);\n",
              "      fill: #174EA6;\n",
              "    }\n",
              "\n",
              "    [theme=dark] .colab-df-convert {\n",
              "      background-color: #3B4455;\n",
              "      fill: #D2E3FC;\n",
              "    }\n",
              "\n",
              "    [theme=dark] .colab-df-convert:hover {\n",
              "      background-color: #434B5C;\n",
              "      box-shadow: 0px 1px 3px 1px rgba(0, 0, 0, 0.15);\n",
              "      filter: drop-shadow(0px 1px 2px rgba(0, 0, 0, 0.3));\n",
              "      fill: #FFFFFF;\n",
              "    }\n",
              "  </style>\n",
              "\n",
              "      <script>\n",
              "        const buttonEl =\n",
              "          document.querySelector('#df-18a966ae-130f-47e0-a996-53b30be7c9ec button.colab-df-convert');\n",
              "        buttonEl.style.display =\n",
              "          google.colab.kernel.accessAllowed ? 'block' : 'none';\n",
              "\n",
              "        async function convertToInteractive(key) {\n",
              "          const element = document.querySelector('#df-18a966ae-130f-47e0-a996-53b30be7c9ec');\n",
              "          const dataTable =\n",
              "            await google.colab.kernel.invokeFunction('convertToInteractive',\n",
              "                                                     [key], {});\n",
              "          if (!dataTable) return;\n",
              "\n",
              "          const docLinkHtml = 'Like what you see? Visit the ' +\n",
              "            '<a target=\"_blank\" href=https://colab.research.google.com/notebooks/data_table.ipynb>data table notebook</a>'\n",
              "            + ' to learn more about interactive tables.';\n",
              "          element.innerHTML = '';\n",
              "          dataTable['output_type'] = 'display_data';\n",
              "          await google.colab.output.renderOutput(dataTable, element);\n",
              "          const docLink = document.createElement('div');\n",
              "          docLink.innerHTML = docLinkHtml;\n",
              "          element.appendChild(docLink);\n",
              "        }\n",
              "      </script>\n",
              "    </div>\n",
              "  </div>\n",
              "  "
            ]
          },
          "metadata": {},
          "execution_count": 38
        }
      ]
    },
    {
      "cell_type": "code",
      "source": [
        "df.shape"
      ],
      "metadata": {
        "colab": {
          "base_uri": "https://localhost:8080/"
        },
        "id": "T3ZbTF_OqAtm",
        "outputId": "1b29100e-5b55-4d0b-8517-797dfcaa593d"
      },
      "execution_count": 74,
      "outputs": [
        {
          "output_type": "execute_result",
          "data": {
            "text/plain": [
              "(918, 21)"
            ]
          },
          "metadata": {},
          "execution_count": 74
        }
      ]
    },
    {
      "cell_type": "code",
      "source": [
        "df.info()"
      ],
      "metadata": {
        "colab": {
          "base_uri": "https://localhost:8080/"
        },
        "id": "-KiHFhrpWMbm",
        "outputId": "2e4b4fc1-2214-4a04-c46e-5b217e72ca53"
      },
      "execution_count": 39,
      "outputs": [
        {
          "output_type": "stream",
          "name": "stdout",
          "text": [
            "<class 'pandas.core.frame.DataFrame'>\n",
            "RangeIndex: 918 entries, 0 to 917\n",
            "Data columns (total 12 columns):\n",
            " #   Column          Non-Null Count  Dtype  \n",
            "---  ------          --------------  -----  \n",
            " 0   Age             918 non-null    int64  \n",
            " 1   Sex             918 non-null    object \n",
            " 2   ChestPainType   918 non-null    object \n",
            " 3   RestingBP       918 non-null    int64  \n",
            " 4   Cholesterol     918 non-null    int64  \n",
            " 5   FastingBS       918 non-null    int64  \n",
            " 6   RestingECG      918 non-null    object \n",
            " 7   MaxHR           918 non-null    int64  \n",
            " 8   ExerciseAngina  918 non-null    object \n",
            " 9   Oldpeak         918 non-null    float64\n",
            " 10  ST_Slope        918 non-null    object \n",
            " 11  HeartDisease    918 non-null    int64  \n",
            "dtypes: float64(1), int64(6), object(5)\n",
            "memory usage: 86.2+ KB\n"
          ]
        }
      ]
    },
    {
      "cell_type": "code",
      "source": [
        "df.describe()"
      ],
      "metadata": {
        "colab": {
          "base_uri": "https://localhost:8080/",
          "height": 300
        },
        "id": "8dGd6C3wWNUF",
        "outputId": "ad9f02b9-5d52-46df-a34d-03e7cf66e121"
      },
      "execution_count": 40,
      "outputs": [
        {
          "output_type": "execute_result",
          "data": {
            "text/plain": [
              "              Age   RestingBP  Cholesterol   FastingBS       MaxHR  \\\n",
              "count  918.000000  918.000000   918.000000  918.000000  918.000000   \n",
              "mean    53.510893  132.396514   198.799564    0.233115  136.809368   \n",
              "std      9.432617   18.514154   109.384145    0.423046   25.460334   \n",
              "min     28.000000    0.000000     0.000000    0.000000   60.000000   \n",
              "25%     47.000000  120.000000   173.250000    0.000000  120.000000   \n",
              "50%     54.000000  130.000000   223.000000    0.000000  138.000000   \n",
              "75%     60.000000  140.000000   267.000000    0.000000  156.000000   \n",
              "max     77.000000  200.000000   603.000000    1.000000  202.000000   \n",
              "\n",
              "          Oldpeak  HeartDisease  \n",
              "count  918.000000    918.000000  \n",
              "mean     0.887364      0.553377  \n",
              "std      1.066570      0.497414  \n",
              "min     -2.600000      0.000000  \n",
              "25%      0.000000      0.000000  \n",
              "50%      0.600000      1.000000  \n",
              "75%      1.500000      1.000000  \n",
              "max      6.200000      1.000000  "
            ],
            "text/html": [
              "\n",
              "  <div id=\"df-cc01adbc-a416-4bee-a62f-31bf08b8ee27\">\n",
              "    <div class=\"colab-df-container\">\n",
              "      <div>\n",
              "<style scoped>\n",
              "    .dataframe tbody tr th:only-of-type {\n",
              "        vertical-align: middle;\n",
              "    }\n",
              "\n",
              "    .dataframe tbody tr th {\n",
              "        vertical-align: top;\n",
              "    }\n",
              "\n",
              "    .dataframe thead th {\n",
              "        text-align: right;\n",
              "    }\n",
              "</style>\n",
              "<table border=\"1\" class=\"dataframe\">\n",
              "  <thead>\n",
              "    <tr style=\"text-align: right;\">\n",
              "      <th></th>\n",
              "      <th>Age</th>\n",
              "      <th>RestingBP</th>\n",
              "      <th>Cholesterol</th>\n",
              "      <th>FastingBS</th>\n",
              "      <th>MaxHR</th>\n",
              "      <th>Oldpeak</th>\n",
              "      <th>HeartDisease</th>\n",
              "    </tr>\n",
              "  </thead>\n",
              "  <tbody>\n",
              "    <tr>\n",
              "      <th>count</th>\n",
              "      <td>918.000000</td>\n",
              "      <td>918.000000</td>\n",
              "      <td>918.000000</td>\n",
              "      <td>918.000000</td>\n",
              "      <td>918.000000</td>\n",
              "      <td>918.000000</td>\n",
              "      <td>918.000000</td>\n",
              "    </tr>\n",
              "    <tr>\n",
              "      <th>mean</th>\n",
              "      <td>53.510893</td>\n",
              "      <td>132.396514</td>\n",
              "      <td>198.799564</td>\n",
              "      <td>0.233115</td>\n",
              "      <td>136.809368</td>\n",
              "      <td>0.887364</td>\n",
              "      <td>0.553377</td>\n",
              "    </tr>\n",
              "    <tr>\n",
              "      <th>std</th>\n",
              "      <td>9.432617</td>\n",
              "      <td>18.514154</td>\n",
              "      <td>109.384145</td>\n",
              "      <td>0.423046</td>\n",
              "      <td>25.460334</td>\n",
              "      <td>1.066570</td>\n",
              "      <td>0.497414</td>\n",
              "    </tr>\n",
              "    <tr>\n",
              "      <th>min</th>\n",
              "      <td>28.000000</td>\n",
              "      <td>0.000000</td>\n",
              "      <td>0.000000</td>\n",
              "      <td>0.000000</td>\n",
              "      <td>60.000000</td>\n",
              "      <td>-2.600000</td>\n",
              "      <td>0.000000</td>\n",
              "    </tr>\n",
              "    <tr>\n",
              "      <th>25%</th>\n",
              "      <td>47.000000</td>\n",
              "      <td>120.000000</td>\n",
              "      <td>173.250000</td>\n",
              "      <td>0.000000</td>\n",
              "      <td>120.000000</td>\n",
              "      <td>0.000000</td>\n",
              "      <td>0.000000</td>\n",
              "    </tr>\n",
              "    <tr>\n",
              "      <th>50%</th>\n",
              "      <td>54.000000</td>\n",
              "      <td>130.000000</td>\n",
              "      <td>223.000000</td>\n",
              "      <td>0.000000</td>\n",
              "      <td>138.000000</td>\n",
              "      <td>0.600000</td>\n",
              "      <td>1.000000</td>\n",
              "    </tr>\n",
              "    <tr>\n",
              "      <th>75%</th>\n",
              "      <td>60.000000</td>\n",
              "      <td>140.000000</td>\n",
              "      <td>267.000000</td>\n",
              "      <td>0.000000</td>\n",
              "      <td>156.000000</td>\n",
              "      <td>1.500000</td>\n",
              "      <td>1.000000</td>\n",
              "    </tr>\n",
              "    <tr>\n",
              "      <th>max</th>\n",
              "      <td>77.000000</td>\n",
              "      <td>200.000000</td>\n",
              "      <td>603.000000</td>\n",
              "      <td>1.000000</td>\n",
              "      <td>202.000000</td>\n",
              "      <td>6.200000</td>\n",
              "      <td>1.000000</td>\n",
              "    </tr>\n",
              "  </tbody>\n",
              "</table>\n",
              "</div>\n",
              "      <button class=\"colab-df-convert\" onclick=\"convertToInteractive('df-cc01adbc-a416-4bee-a62f-31bf08b8ee27')\"\n",
              "              title=\"Convert this dataframe to an interactive table.\"\n",
              "              style=\"display:none;\">\n",
              "        \n",
              "  <svg xmlns=\"http://www.w3.org/2000/svg\" height=\"24px\"viewBox=\"0 0 24 24\"\n",
              "       width=\"24px\">\n",
              "    <path d=\"M0 0h24v24H0V0z\" fill=\"none\"/>\n",
              "    <path d=\"M18.56 5.44l.94 2.06.94-2.06 2.06-.94-2.06-.94-.94-2.06-.94 2.06-2.06.94zm-11 1L8.5 8.5l.94-2.06 2.06-.94-2.06-.94L8.5 2.5l-.94 2.06-2.06.94zm10 10l.94 2.06.94-2.06 2.06-.94-2.06-.94-.94-2.06-.94 2.06-2.06.94z\"/><path d=\"M17.41 7.96l-1.37-1.37c-.4-.4-.92-.59-1.43-.59-.52 0-1.04.2-1.43.59L10.3 9.45l-7.72 7.72c-.78.78-.78 2.05 0 2.83L4 21.41c.39.39.9.59 1.41.59.51 0 1.02-.2 1.41-.59l7.78-7.78 2.81-2.81c.8-.78.8-2.07 0-2.86zM5.41 20L4 18.59l7.72-7.72 1.47 1.35L5.41 20z\"/>\n",
              "  </svg>\n",
              "      </button>\n",
              "      \n",
              "  <style>\n",
              "    .colab-df-container {\n",
              "      display:flex;\n",
              "      flex-wrap:wrap;\n",
              "      gap: 12px;\n",
              "    }\n",
              "\n",
              "    .colab-df-convert {\n",
              "      background-color: #E8F0FE;\n",
              "      border: none;\n",
              "      border-radius: 50%;\n",
              "      cursor: pointer;\n",
              "      display: none;\n",
              "      fill: #1967D2;\n",
              "      height: 32px;\n",
              "      padding: 0 0 0 0;\n",
              "      width: 32px;\n",
              "    }\n",
              "\n",
              "    .colab-df-convert:hover {\n",
              "      background-color: #E2EBFA;\n",
              "      box-shadow: 0px 1px 2px rgba(60, 64, 67, 0.3), 0px 1px 3px 1px rgba(60, 64, 67, 0.15);\n",
              "      fill: #174EA6;\n",
              "    }\n",
              "\n",
              "    [theme=dark] .colab-df-convert {\n",
              "      background-color: #3B4455;\n",
              "      fill: #D2E3FC;\n",
              "    }\n",
              "\n",
              "    [theme=dark] .colab-df-convert:hover {\n",
              "      background-color: #434B5C;\n",
              "      box-shadow: 0px 1px 3px 1px rgba(0, 0, 0, 0.15);\n",
              "      filter: drop-shadow(0px 1px 2px rgba(0, 0, 0, 0.3));\n",
              "      fill: #FFFFFF;\n",
              "    }\n",
              "  </style>\n",
              "\n",
              "      <script>\n",
              "        const buttonEl =\n",
              "          document.querySelector('#df-cc01adbc-a416-4bee-a62f-31bf08b8ee27 button.colab-df-convert');\n",
              "        buttonEl.style.display =\n",
              "          google.colab.kernel.accessAllowed ? 'block' : 'none';\n",
              "\n",
              "        async function convertToInteractive(key) {\n",
              "          const element = document.querySelector('#df-cc01adbc-a416-4bee-a62f-31bf08b8ee27');\n",
              "          const dataTable =\n",
              "            await google.colab.kernel.invokeFunction('convertToInteractive',\n",
              "                                                     [key], {});\n",
              "          if (!dataTable) return;\n",
              "\n",
              "          const docLinkHtml = 'Like what you see? Visit the ' +\n",
              "            '<a target=\"_blank\" href=https://colab.research.google.com/notebooks/data_table.ipynb>data table notebook</a>'\n",
              "            + ' to learn more about interactive tables.';\n",
              "          element.innerHTML = '';\n",
              "          dataTable['output_type'] = 'display_data';\n",
              "          await google.colab.output.renderOutput(dataTable, element);\n",
              "          const docLink = document.createElement('div');\n",
              "          docLink.innerHTML = docLinkHtml;\n",
              "          element.appendChild(docLink);\n",
              "        }\n",
              "      </script>\n",
              "    </div>\n",
              "  </div>\n",
              "  "
            ]
          },
          "metadata": {},
          "execution_count": 40
        }
      ]
    },
    {
      "cell_type": "code",
      "source": [
        "df.corr()"
      ],
      "metadata": {
        "colab": {
          "base_uri": "https://localhost:8080/",
          "height": 269
        },
        "id": "lO3WPXiBWNWo",
        "outputId": "b55a67b1-cad3-4762-d8e6-91d1d1285d4f"
      },
      "execution_count": 41,
      "outputs": [
        {
          "output_type": "execute_result",
          "data": {
            "text/plain": [
              "                   Age  RestingBP  Cholesterol  FastingBS     MaxHR   Oldpeak  \\\n",
              "Age           1.000000   0.254399    -0.095282   0.198039 -0.382045  0.258612   \n",
              "RestingBP     0.254399   1.000000     0.100893   0.070193 -0.112135  0.164803   \n",
              "Cholesterol  -0.095282   0.100893     1.000000  -0.260974  0.235792  0.050148   \n",
              "FastingBS     0.198039   0.070193    -0.260974   1.000000 -0.131438  0.052698   \n",
              "MaxHR        -0.382045  -0.112135     0.235792  -0.131438  1.000000 -0.160691   \n",
              "Oldpeak       0.258612   0.164803     0.050148   0.052698 -0.160691  1.000000   \n",
              "HeartDisease  0.282039   0.107589    -0.232741   0.267291 -0.400421  0.403951   \n",
              "\n",
              "              HeartDisease  \n",
              "Age               0.282039  \n",
              "RestingBP         0.107589  \n",
              "Cholesterol      -0.232741  \n",
              "FastingBS         0.267291  \n",
              "MaxHR            -0.400421  \n",
              "Oldpeak           0.403951  \n",
              "HeartDisease      1.000000  "
            ],
            "text/html": [
              "\n",
              "  <div id=\"df-b3e3500e-e062-4f20-922f-c7e1aa60a240\">\n",
              "    <div class=\"colab-df-container\">\n",
              "      <div>\n",
              "<style scoped>\n",
              "    .dataframe tbody tr th:only-of-type {\n",
              "        vertical-align: middle;\n",
              "    }\n",
              "\n",
              "    .dataframe tbody tr th {\n",
              "        vertical-align: top;\n",
              "    }\n",
              "\n",
              "    .dataframe thead th {\n",
              "        text-align: right;\n",
              "    }\n",
              "</style>\n",
              "<table border=\"1\" class=\"dataframe\">\n",
              "  <thead>\n",
              "    <tr style=\"text-align: right;\">\n",
              "      <th></th>\n",
              "      <th>Age</th>\n",
              "      <th>RestingBP</th>\n",
              "      <th>Cholesterol</th>\n",
              "      <th>FastingBS</th>\n",
              "      <th>MaxHR</th>\n",
              "      <th>Oldpeak</th>\n",
              "      <th>HeartDisease</th>\n",
              "    </tr>\n",
              "  </thead>\n",
              "  <tbody>\n",
              "    <tr>\n",
              "      <th>Age</th>\n",
              "      <td>1.000000</td>\n",
              "      <td>0.254399</td>\n",
              "      <td>-0.095282</td>\n",
              "      <td>0.198039</td>\n",
              "      <td>-0.382045</td>\n",
              "      <td>0.258612</td>\n",
              "      <td>0.282039</td>\n",
              "    </tr>\n",
              "    <tr>\n",
              "      <th>RestingBP</th>\n",
              "      <td>0.254399</td>\n",
              "      <td>1.000000</td>\n",
              "      <td>0.100893</td>\n",
              "      <td>0.070193</td>\n",
              "      <td>-0.112135</td>\n",
              "      <td>0.164803</td>\n",
              "      <td>0.107589</td>\n",
              "    </tr>\n",
              "    <tr>\n",
              "      <th>Cholesterol</th>\n",
              "      <td>-0.095282</td>\n",
              "      <td>0.100893</td>\n",
              "      <td>1.000000</td>\n",
              "      <td>-0.260974</td>\n",
              "      <td>0.235792</td>\n",
              "      <td>0.050148</td>\n",
              "      <td>-0.232741</td>\n",
              "    </tr>\n",
              "    <tr>\n",
              "      <th>FastingBS</th>\n",
              "      <td>0.198039</td>\n",
              "      <td>0.070193</td>\n",
              "      <td>-0.260974</td>\n",
              "      <td>1.000000</td>\n",
              "      <td>-0.131438</td>\n",
              "      <td>0.052698</td>\n",
              "      <td>0.267291</td>\n",
              "    </tr>\n",
              "    <tr>\n",
              "      <th>MaxHR</th>\n",
              "      <td>-0.382045</td>\n",
              "      <td>-0.112135</td>\n",
              "      <td>0.235792</td>\n",
              "      <td>-0.131438</td>\n",
              "      <td>1.000000</td>\n",
              "      <td>-0.160691</td>\n",
              "      <td>-0.400421</td>\n",
              "    </tr>\n",
              "    <tr>\n",
              "      <th>Oldpeak</th>\n",
              "      <td>0.258612</td>\n",
              "      <td>0.164803</td>\n",
              "      <td>0.050148</td>\n",
              "      <td>0.052698</td>\n",
              "      <td>-0.160691</td>\n",
              "      <td>1.000000</td>\n",
              "      <td>0.403951</td>\n",
              "    </tr>\n",
              "    <tr>\n",
              "      <th>HeartDisease</th>\n",
              "      <td>0.282039</td>\n",
              "      <td>0.107589</td>\n",
              "      <td>-0.232741</td>\n",
              "      <td>0.267291</td>\n",
              "      <td>-0.400421</td>\n",
              "      <td>0.403951</td>\n",
              "      <td>1.000000</td>\n",
              "    </tr>\n",
              "  </tbody>\n",
              "</table>\n",
              "</div>\n",
              "      <button class=\"colab-df-convert\" onclick=\"convertToInteractive('df-b3e3500e-e062-4f20-922f-c7e1aa60a240')\"\n",
              "              title=\"Convert this dataframe to an interactive table.\"\n",
              "              style=\"display:none;\">\n",
              "        \n",
              "  <svg xmlns=\"http://www.w3.org/2000/svg\" height=\"24px\"viewBox=\"0 0 24 24\"\n",
              "       width=\"24px\">\n",
              "    <path d=\"M0 0h24v24H0V0z\" fill=\"none\"/>\n",
              "    <path d=\"M18.56 5.44l.94 2.06.94-2.06 2.06-.94-2.06-.94-.94-2.06-.94 2.06-2.06.94zm-11 1L8.5 8.5l.94-2.06 2.06-.94-2.06-.94L8.5 2.5l-.94 2.06-2.06.94zm10 10l.94 2.06.94-2.06 2.06-.94-2.06-.94-.94-2.06-.94 2.06-2.06.94z\"/><path d=\"M17.41 7.96l-1.37-1.37c-.4-.4-.92-.59-1.43-.59-.52 0-1.04.2-1.43.59L10.3 9.45l-7.72 7.72c-.78.78-.78 2.05 0 2.83L4 21.41c.39.39.9.59 1.41.59.51 0 1.02-.2 1.41-.59l7.78-7.78 2.81-2.81c.8-.78.8-2.07 0-2.86zM5.41 20L4 18.59l7.72-7.72 1.47 1.35L5.41 20z\"/>\n",
              "  </svg>\n",
              "      </button>\n",
              "      \n",
              "  <style>\n",
              "    .colab-df-container {\n",
              "      display:flex;\n",
              "      flex-wrap:wrap;\n",
              "      gap: 12px;\n",
              "    }\n",
              "\n",
              "    .colab-df-convert {\n",
              "      background-color: #E8F0FE;\n",
              "      border: none;\n",
              "      border-radius: 50%;\n",
              "      cursor: pointer;\n",
              "      display: none;\n",
              "      fill: #1967D2;\n",
              "      height: 32px;\n",
              "      padding: 0 0 0 0;\n",
              "      width: 32px;\n",
              "    }\n",
              "\n",
              "    .colab-df-convert:hover {\n",
              "      background-color: #E2EBFA;\n",
              "      box-shadow: 0px 1px 2px rgba(60, 64, 67, 0.3), 0px 1px 3px 1px rgba(60, 64, 67, 0.15);\n",
              "      fill: #174EA6;\n",
              "    }\n",
              "\n",
              "    [theme=dark] .colab-df-convert {\n",
              "      background-color: #3B4455;\n",
              "      fill: #D2E3FC;\n",
              "    }\n",
              "\n",
              "    [theme=dark] .colab-df-convert:hover {\n",
              "      background-color: #434B5C;\n",
              "      box-shadow: 0px 1px 3px 1px rgba(0, 0, 0, 0.15);\n",
              "      filter: drop-shadow(0px 1px 2px rgba(0, 0, 0, 0.3));\n",
              "      fill: #FFFFFF;\n",
              "    }\n",
              "  </style>\n",
              "\n",
              "      <script>\n",
              "        const buttonEl =\n",
              "          document.querySelector('#df-b3e3500e-e062-4f20-922f-c7e1aa60a240 button.colab-df-convert');\n",
              "        buttonEl.style.display =\n",
              "          google.colab.kernel.accessAllowed ? 'block' : 'none';\n",
              "\n",
              "        async function convertToInteractive(key) {\n",
              "          const element = document.querySelector('#df-b3e3500e-e062-4f20-922f-c7e1aa60a240');\n",
              "          const dataTable =\n",
              "            await google.colab.kernel.invokeFunction('convertToInteractive',\n",
              "                                                     [key], {});\n",
              "          if (!dataTable) return;\n",
              "\n",
              "          const docLinkHtml = 'Like what you see? Visit the ' +\n",
              "            '<a target=\"_blank\" href=https://colab.research.google.com/notebooks/data_table.ipynb>data table notebook</a>'\n",
              "            + ' to learn more about interactive tables.';\n",
              "          element.innerHTML = '';\n",
              "          dataTable['output_type'] = 'display_data';\n",
              "          await google.colab.output.renderOutput(dataTable, element);\n",
              "          const docLink = document.createElement('div');\n",
              "          docLink.innerHTML = docLinkHtml;\n",
              "          element.appendChild(docLink);\n",
              "        }\n",
              "      </script>\n",
              "    </div>\n",
              "  </div>\n",
              "  "
            ]
          },
          "metadata": {},
          "execution_count": 41
        }
      ]
    },
    {
      "cell_type": "code",
      "source": [
        "df.isna().sum()"
      ],
      "metadata": {
        "colab": {
          "base_uri": "https://localhost:8080/"
        },
        "id": "HNxspKAxWNZP",
        "outputId": "8f0c5264-a259-44d1-a86b-0347af1c5788"
      },
      "execution_count": 42,
      "outputs": [
        {
          "output_type": "execute_result",
          "data": {
            "text/plain": [
              "Age               0\n",
              "Sex               0\n",
              "ChestPainType     0\n",
              "RestingBP         0\n",
              "Cholesterol       0\n",
              "FastingBS         0\n",
              "RestingECG        0\n",
              "MaxHR             0\n",
              "ExerciseAngina    0\n",
              "Oldpeak           0\n",
              "ST_Slope          0\n",
              "HeartDisease      0\n",
              "dtype: int64"
            ]
          },
          "metadata": {},
          "execution_count": 42
        }
      ]
    },
    {
      "cell_type": "markdown",
      "source": [
        "# Data Preprocessing"
      ],
      "metadata": {
        "id": "othlPILJYRdO"
      }
    },
    {
      "cell_type": "code",
      "source": [
        "categorical_cols = ['Sex','ChestPainType', 'RestingECG', 'ExerciseAngina', 'ST_Slope'] \n",
        "#import pandas as pd\n",
        "df = pd.get_dummies(df, columns = categorical_cols)"
      ],
      "metadata": {
        "id": "VMcL2Bq1XiuI"
      },
      "execution_count": 43,
      "outputs": []
    },
    {
      "cell_type": "code",
      "source": [
        "df.head()"
      ],
      "metadata": {
        "colab": {
          "base_uri": "https://localhost:8080/",
          "height": 300
        },
        "id": "2G8XoUO-Xk3f",
        "outputId": "49b7dae2-4820-4e21-c5c2-880d83a2617f"
      },
      "execution_count": 44,
      "outputs": [
        {
          "output_type": "execute_result",
          "data": {
            "text/plain": [
              "   Age  RestingBP  Cholesterol  FastingBS  MaxHR  Oldpeak  HeartDisease  \\\n",
              "0   40        140          289          0    172      0.0             0   \n",
              "1   49        160          180          0    156      1.0             1   \n",
              "2   37        130          283          0     98      0.0             0   \n",
              "3   48        138          214          0    108      1.5             1   \n",
              "4   54        150          195          0    122      0.0             0   \n",
              "\n",
              "   Sex_F  Sex_M  ChestPainType_ASY  ...  ChestPainType_NAP  ChestPainType_TA  \\\n",
              "0      0      1                  0  ...                  0                 0   \n",
              "1      1      0                  0  ...                  1                 0   \n",
              "2      0      1                  0  ...                  0                 0   \n",
              "3      1      0                  1  ...                  0                 0   \n",
              "4      0      1                  0  ...                  1                 0   \n",
              "\n",
              "   RestingECG_LVH  RestingECG_Normal  RestingECG_ST  ExerciseAngina_N  \\\n",
              "0               0                  1              0                 1   \n",
              "1               0                  1              0                 1   \n",
              "2               0                  0              1                 1   \n",
              "3               0                  1              0                 0   \n",
              "4               0                  1              0                 1   \n",
              "\n",
              "   ExerciseAngina_Y  ST_Slope_Down  ST_Slope_Flat  ST_Slope_Up  \n",
              "0                 0              0              0            1  \n",
              "1                 0              0              1            0  \n",
              "2                 0              0              0            1  \n",
              "3                 1              0              1            0  \n",
              "4                 0              0              0            1  \n",
              "\n",
              "[5 rows x 21 columns]"
            ],
            "text/html": [
              "\n",
              "  <div id=\"df-7bf3997d-4057-4f6d-8787-ebd64b7efa8e\">\n",
              "    <div class=\"colab-df-container\">\n",
              "      <div>\n",
              "<style scoped>\n",
              "    .dataframe tbody tr th:only-of-type {\n",
              "        vertical-align: middle;\n",
              "    }\n",
              "\n",
              "    .dataframe tbody tr th {\n",
              "        vertical-align: top;\n",
              "    }\n",
              "\n",
              "    .dataframe thead th {\n",
              "        text-align: right;\n",
              "    }\n",
              "</style>\n",
              "<table border=\"1\" class=\"dataframe\">\n",
              "  <thead>\n",
              "    <tr style=\"text-align: right;\">\n",
              "      <th></th>\n",
              "      <th>Age</th>\n",
              "      <th>RestingBP</th>\n",
              "      <th>Cholesterol</th>\n",
              "      <th>FastingBS</th>\n",
              "      <th>MaxHR</th>\n",
              "      <th>Oldpeak</th>\n",
              "      <th>HeartDisease</th>\n",
              "      <th>Sex_F</th>\n",
              "      <th>Sex_M</th>\n",
              "      <th>ChestPainType_ASY</th>\n",
              "      <th>...</th>\n",
              "      <th>ChestPainType_NAP</th>\n",
              "      <th>ChestPainType_TA</th>\n",
              "      <th>RestingECG_LVH</th>\n",
              "      <th>RestingECG_Normal</th>\n",
              "      <th>RestingECG_ST</th>\n",
              "      <th>ExerciseAngina_N</th>\n",
              "      <th>ExerciseAngina_Y</th>\n",
              "      <th>ST_Slope_Down</th>\n",
              "      <th>ST_Slope_Flat</th>\n",
              "      <th>ST_Slope_Up</th>\n",
              "    </tr>\n",
              "  </thead>\n",
              "  <tbody>\n",
              "    <tr>\n",
              "      <th>0</th>\n",
              "      <td>40</td>\n",
              "      <td>140</td>\n",
              "      <td>289</td>\n",
              "      <td>0</td>\n",
              "      <td>172</td>\n",
              "      <td>0.0</td>\n",
              "      <td>0</td>\n",
              "      <td>0</td>\n",
              "      <td>1</td>\n",
              "      <td>0</td>\n",
              "      <td>...</td>\n",
              "      <td>0</td>\n",
              "      <td>0</td>\n",
              "      <td>0</td>\n",
              "      <td>1</td>\n",
              "      <td>0</td>\n",
              "      <td>1</td>\n",
              "      <td>0</td>\n",
              "      <td>0</td>\n",
              "      <td>0</td>\n",
              "      <td>1</td>\n",
              "    </tr>\n",
              "    <tr>\n",
              "      <th>1</th>\n",
              "      <td>49</td>\n",
              "      <td>160</td>\n",
              "      <td>180</td>\n",
              "      <td>0</td>\n",
              "      <td>156</td>\n",
              "      <td>1.0</td>\n",
              "      <td>1</td>\n",
              "      <td>1</td>\n",
              "      <td>0</td>\n",
              "      <td>0</td>\n",
              "      <td>...</td>\n",
              "      <td>1</td>\n",
              "      <td>0</td>\n",
              "      <td>0</td>\n",
              "      <td>1</td>\n",
              "      <td>0</td>\n",
              "      <td>1</td>\n",
              "      <td>0</td>\n",
              "      <td>0</td>\n",
              "      <td>1</td>\n",
              "      <td>0</td>\n",
              "    </tr>\n",
              "    <tr>\n",
              "      <th>2</th>\n",
              "      <td>37</td>\n",
              "      <td>130</td>\n",
              "      <td>283</td>\n",
              "      <td>0</td>\n",
              "      <td>98</td>\n",
              "      <td>0.0</td>\n",
              "      <td>0</td>\n",
              "      <td>0</td>\n",
              "      <td>1</td>\n",
              "      <td>0</td>\n",
              "      <td>...</td>\n",
              "      <td>0</td>\n",
              "      <td>0</td>\n",
              "      <td>0</td>\n",
              "      <td>0</td>\n",
              "      <td>1</td>\n",
              "      <td>1</td>\n",
              "      <td>0</td>\n",
              "      <td>0</td>\n",
              "      <td>0</td>\n",
              "      <td>1</td>\n",
              "    </tr>\n",
              "    <tr>\n",
              "      <th>3</th>\n",
              "      <td>48</td>\n",
              "      <td>138</td>\n",
              "      <td>214</td>\n",
              "      <td>0</td>\n",
              "      <td>108</td>\n",
              "      <td>1.5</td>\n",
              "      <td>1</td>\n",
              "      <td>1</td>\n",
              "      <td>0</td>\n",
              "      <td>1</td>\n",
              "      <td>...</td>\n",
              "      <td>0</td>\n",
              "      <td>0</td>\n",
              "      <td>0</td>\n",
              "      <td>1</td>\n",
              "      <td>0</td>\n",
              "      <td>0</td>\n",
              "      <td>1</td>\n",
              "      <td>0</td>\n",
              "      <td>1</td>\n",
              "      <td>0</td>\n",
              "    </tr>\n",
              "    <tr>\n",
              "      <th>4</th>\n",
              "      <td>54</td>\n",
              "      <td>150</td>\n",
              "      <td>195</td>\n",
              "      <td>0</td>\n",
              "      <td>122</td>\n",
              "      <td>0.0</td>\n",
              "      <td>0</td>\n",
              "      <td>0</td>\n",
              "      <td>1</td>\n",
              "      <td>0</td>\n",
              "      <td>...</td>\n",
              "      <td>1</td>\n",
              "      <td>0</td>\n",
              "      <td>0</td>\n",
              "      <td>1</td>\n",
              "      <td>0</td>\n",
              "      <td>1</td>\n",
              "      <td>0</td>\n",
              "      <td>0</td>\n",
              "      <td>0</td>\n",
              "      <td>1</td>\n",
              "    </tr>\n",
              "  </tbody>\n",
              "</table>\n",
              "<p>5 rows × 21 columns</p>\n",
              "</div>\n",
              "      <button class=\"colab-df-convert\" onclick=\"convertToInteractive('df-7bf3997d-4057-4f6d-8787-ebd64b7efa8e')\"\n",
              "              title=\"Convert this dataframe to an interactive table.\"\n",
              "              style=\"display:none;\">\n",
              "        \n",
              "  <svg xmlns=\"http://www.w3.org/2000/svg\" height=\"24px\"viewBox=\"0 0 24 24\"\n",
              "       width=\"24px\">\n",
              "    <path d=\"M0 0h24v24H0V0z\" fill=\"none\"/>\n",
              "    <path d=\"M18.56 5.44l.94 2.06.94-2.06 2.06-.94-2.06-.94-.94-2.06-.94 2.06-2.06.94zm-11 1L8.5 8.5l.94-2.06 2.06-.94-2.06-.94L8.5 2.5l-.94 2.06-2.06.94zm10 10l.94 2.06.94-2.06 2.06-.94-2.06-.94-.94-2.06-.94 2.06-2.06.94z\"/><path d=\"M17.41 7.96l-1.37-1.37c-.4-.4-.92-.59-1.43-.59-.52 0-1.04.2-1.43.59L10.3 9.45l-7.72 7.72c-.78.78-.78 2.05 0 2.83L4 21.41c.39.39.9.59 1.41.59.51 0 1.02-.2 1.41-.59l7.78-7.78 2.81-2.81c.8-.78.8-2.07 0-2.86zM5.41 20L4 18.59l7.72-7.72 1.47 1.35L5.41 20z\"/>\n",
              "  </svg>\n",
              "      </button>\n",
              "      \n",
              "  <style>\n",
              "    .colab-df-container {\n",
              "      display:flex;\n",
              "      flex-wrap:wrap;\n",
              "      gap: 12px;\n",
              "    }\n",
              "\n",
              "    .colab-df-convert {\n",
              "      background-color: #E8F0FE;\n",
              "      border: none;\n",
              "      border-radius: 50%;\n",
              "      cursor: pointer;\n",
              "      display: none;\n",
              "      fill: #1967D2;\n",
              "      height: 32px;\n",
              "      padding: 0 0 0 0;\n",
              "      width: 32px;\n",
              "    }\n",
              "\n",
              "    .colab-df-convert:hover {\n",
              "      background-color: #E2EBFA;\n",
              "      box-shadow: 0px 1px 2px rgba(60, 64, 67, 0.3), 0px 1px 3px 1px rgba(60, 64, 67, 0.15);\n",
              "      fill: #174EA6;\n",
              "    }\n",
              "\n",
              "    [theme=dark] .colab-df-convert {\n",
              "      background-color: #3B4455;\n",
              "      fill: #D2E3FC;\n",
              "    }\n",
              "\n",
              "    [theme=dark] .colab-df-convert:hover {\n",
              "      background-color: #434B5C;\n",
              "      box-shadow: 0px 1px 3px 1px rgba(0, 0, 0, 0.15);\n",
              "      filter: drop-shadow(0px 1px 2px rgba(0, 0, 0, 0.3));\n",
              "      fill: #FFFFFF;\n",
              "    }\n",
              "  </style>\n",
              "\n",
              "      <script>\n",
              "        const buttonEl =\n",
              "          document.querySelector('#df-7bf3997d-4057-4f6d-8787-ebd64b7efa8e button.colab-df-convert');\n",
              "        buttonEl.style.display =\n",
              "          google.colab.kernel.accessAllowed ? 'block' : 'none';\n",
              "\n",
              "        async function convertToInteractive(key) {\n",
              "          const element = document.querySelector('#df-7bf3997d-4057-4f6d-8787-ebd64b7efa8e');\n",
              "          const dataTable =\n",
              "            await google.colab.kernel.invokeFunction('convertToInteractive',\n",
              "                                                     [key], {});\n",
              "          if (!dataTable) return;\n",
              "\n",
              "          const docLinkHtml = 'Like what you see? Visit the ' +\n",
              "            '<a target=\"_blank\" href=https://colab.research.google.com/notebooks/data_table.ipynb>data table notebook</a>'\n",
              "            + ' to learn more about interactive tables.';\n",
              "          element.innerHTML = '';\n",
              "          dataTable['output_type'] = 'display_data';\n",
              "          await google.colab.output.renderOutput(dataTable, element);\n",
              "          const docLink = document.createElement('div');\n",
              "          docLink.innerHTML = docLinkHtml;\n",
              "          element.appendChild(docLink);\n",
              "        }\n",
              "      </script>\n",
              "    </div>\n",
              "  </div>\n",
              "  "
            ]
          },
          "metadata": {},
          "execution_count": 44
        }
      ]
    },
    {
      "cell_type": "markdown",
      "source": [
        "# Model Building"
      ],
      "metadata": {
        "id": "Qy6H7JiBYUfO"
      }
    },
    {
      "cell_type": "code",
      "source": [
        "df.corr()"
      ],
      "metadata": {
        "colab": {
          "base_uri": "https://localhost:8080/",
          "height": 801
        },
        "id": "0x1oxkOPX7PH",
        "outputId": "74dc0f62-34e4-40ca-a8f6-34f6c22e3e56"
      },
      "execution_count": 45,
      "outputs": [
        {
          "output_type": "execute_result",
          "data": {
            "text/plain": [
              "                        Age  RestingBP  Cholesterol  FastingBS     MaxHR  \\\n",
              "Age                1.000000   0.254399    -0.095282   0.198039 -0.382045   \n",
              "RestingBP          0.254399   1.000000     0.100893   0.070193 -0.112135   \n",
              "Cholesterol       -0.095282   0.100893     1.000000  -0.260974  0.235792   \n",
              "FastingBS          0.198039   0.070193    -0.260974   1.000000 -0.131438   \n",
              "MaxHR             -0.382045  -0.112135     0.235792  -0.131438  1.000000   \n",
              "Oldpeak            0.258612   0.164803     0.050148   0.052698 -0.160691   \n",
              "HeartDisease       0.282039   0.107589    -0.232741   0.267291 -0.400421   \n",
              "Sex_F             -0.055750  -0.005133     0.200092  -0.120076  0.189186   \n",
              "Sex_M              0.055750   0.005133    -0.200092   0.120076 -0.189186   \n",
              "ChestPainType_ASY  0.166607   0.048824    -0.120531   0.131176 -0.354963   \n",
              "ChestPainType_ATA -0.218165  -0.046153     0.150954  -0.140514  0.253735   \n",
              "ChestPainType_NAP -0.011335  -0.041348    -0.006634  -0.039249  0.134580   \n",
              "ChestPainType_TA   0.032042   0.049855     0.017365   0.026885  0.100025   \n",
              "RestingECG_LVH     0.145727   0.053166     0.177077  -0.011656  0.125793   \n",
              "RestingECG_Normal -0.230566  -0.116851    -0.038470  -0.093028  0.023801   \n",
              "RestingECG_ST      0.136798   0.090447    -0.133106   0.127110 -0.157879   \n",
              "ExerciseAngina_N  -0.215793  -0.155101     0.034166  -0.060451  0.370425   \n",
              "ExerciseAngina_Y   0.215793   0.155101    -0.034166   0.060451 -0.370425   \n",
              "ST_Slope_Down      0.138397  -0.007912    -0.083371   0.105102 -0.073316   \n",
              "ST_Slope_Flat      0.185568   0.099207    -0.050953   0.107006 -0.342581   \n",
              "ST_Slope_Up       -0.258067  -0.096146     0.094027  -0.161730  0.383397   \n",
              "\n",
              "                    Oldpeak  HeartDisease     Sex_F     Sex_M  \\\n",
              "Age                0.258612      0.282039 -0.055750  0.055750   \n",
              "RestingBP          0.164803      0.107589 -0.005133  0.005133   \n",
              "Cholesterol        0.050148     -0.232741  0.200092 -0.200092   \n",
              "FastingBS          0.052698      0.267291 -0.120076  0.120076   \n",
              "MaxHR             -0.160691     -0.400421  0.189186 -0.189186   \n",
              "Oldpeak            1.000000      0.403951 -0.105734  0.105734   \n",
              "HeartDisease       0.403951      1.000000 -0.305445  0.305445   \n",
              "Sex_F             -0.105734     -0.305445  1.000000 -1.000000   \n",
              "Sex_M              0.105734      0.305445 -1.000000  1.000000   \n",
              "ChestPainType_ASY  0.280026      0.516716 -0.183876  0.183876   \n",
              "ChestPainType_ATA -0.262124     -0.401924  0.161522 -0.161522   \n",
              "ChestPainType_NAP -0.106212     -0.212964  0.066486 -0.066486   \n",
              "ChestPainType_TA   0.032231     -0.054790  0.004031 -0.004031   \n",
              "RestingECG_LVH     0.086794      0.010670  0.049518 -0.049518   \n",
              "RestingECG_Normal -0.116719     -0.091580  0.010634 -0.010634   \n",
              "RestingECG_ST      0.055958      0.102527 -0.063715  0.063715   \n",
              "ExerciseAngina_N  -0.408752     -0.494282  0.190664 -0.190664   \n",
              "ExerciseAngina_Y   0.408752      0.494282 -0.190664  0.190664   \n",
              "ST_Slope_Down      0.322130      0.122527 -0.066036  0.066036   \n",
              "ST_Slope_Flat      0.283295      0.554134 -0.116077  0.116077   \n",
              "ST_Slope_Up       -0.450577     -0.622164  0.150942 -0.150942   \n",
              "\n",
              "                   ChestPainType_ASY  ...  ChestPainType_NAP  \\\n",
              "Age                         0.166607  ...          -0.011335   \n",
              "RestingBP                   0.048824  ...          -0.041348   \n",
              "Cholesterol                -0.120531  ...          -0.006634   \n",
              "FastingBS                   0.131176  ...          -0.039249   \n",
              "MaxHR                      -0.354963  ...           0.134580   \n",
              "Oldpeak                     0.280026  ...          -0.106212   \n",
              "HeartDisease                0.516716  ...          -0.212964   \n",
              "Sex_F                      -0.183876  ...           0.066486   \n",
              "Sex_M                       0.183876  ...          -0.066486   \n",
              "ChestPainType_ASY           1.000000  ...          -0.577670   \n",
              "ChestPainType_ATA          -0.522432  ...          -0.256767   \n",
              "ChestPainType_NAP          -0.577670  ...           1.000000   \n",
              "ChestPainType_TA           -0.249003  ...          -0.122381   \n",
              "RestingECG_LVH              0.002289  ...           0.035299   \n",
              "RestingECG_Normal          -0.063606  ...           0.005010   \n",
              "RestingECG_ST               0.076438  ...          -0.042236   \n",
              "ExerciseAngina_N           -0.430034  ...           0.166030   \n",
              "ExerciseAngina_Y            0.430034  ...          -0.166030   \n",
              "ST_Slope_Down               0.103407  ...          -0.040816   \n",
              "ST_Slope_Flat               0.303645  ...          -0.072031   \n",
              "ST_Slope_Up                -0.359443  ...           0.093583   \n",
              "\n",
              "                   ChestPainType_TA  RestingECG_LVH  RestingECG_Normal  \\\n",
              "Age                        0.032042        0.145727          -0.230566   \n",
              "RestingBP                  0.049855        0.053166          -0.116851   \n",
              "Cholesterol                0.017365        0.177077          -0.038470   \n",
              "FastingBS                  0.026885       -0.011656          -0.093028   \n",
              "MaxHR                      0.100025        0.125793           0.023801   \n",
              "Oldpeak                    0.032231        0.086794          -0.116719   \n",
              "HeartDisease              -0.054790        0.010670          -0.091580   \n",
              "Sex_F                      0.004031        0.049518           0.010634   \n",
              "Sex_M                     -0.004031       -0.049518          -0.010634   \n",
              "ChestPainType_ASY         -0.249003        0.002289          -0.063606   \n",
              "ChestPainType_ATA         -0.110679       -0.085791           0.107941   \n",
              "ChestPainType_NAP         -0.122381        0.035299           0.005010   \n",
              "ChestPainType_TA           1.000000        0.081407          -0.057719   \n",
              "RestingECG_LVH             0.081407        1.000000          -0.623227   \n",
              "RestingECG_Normal         -0.057719       -0.623227           1.000000   \n",
              "RestingECG_ST             -0.011611       -0.248892          -0.602314   \n",
              "ExerciseAngina_N           0.128105        0.016382           0.072924   \n",
              "ExerciseAngina_Y          -0.128105       -0.016382          -0.072924   \n",
              "ST_Slope_Down              0.016651        0.043755          -0.060564   \n",
              "ST_Slope_Flat             -0.010486        0.015091          -0.047172   \n",
              "ST_Slope_Up                0.002087       -0.037582           0.078563   \n",
              "\n",
              "                   RestingECG_ST  ExerciseAngina_N  ExerciseAngina_Y  \\\n",
              "Age                     0.136798         -0.215793          0.215793   \n",
              "RestingBP               0.090447         -0.155101          0.155101   \n",
              "Cholesterol            -0.133106          0.034166         -0.034166   \n",
              "FastingBS               0.127110         -0.060451          0.060451   \n",
              "MaxHR                  -0.157879          0.370425         -0.370425   \n",
              "Oldpeak                 0.055958         -0.408752          0.408752   \n",
              "HeartDisease            0.102527         -0.494282          0.494282   \n",
              "Sex_F                  -0.063715          0.190664         -0.190664   \n",
              "Sex_M                   0.063715         -0.190664          0.190664   \n",
              "ChestPainType_ASY       0.076438         -0.430034          0.430034   \n",
              "ChestPainType_ATA      -0.046111          0.300365         -0.300365   \n",
              "ChestPainType_NAP      -0.042236          0.166030         -0.166030   \n",
              "ChestPainType_TA       -0.011611          0.128105         -0.128105   \n",
              "RestingECG_LVH         -0.248892          0.016382         -0.016382   \n",
              "RestingECG_Normal      -0.602314          0.072924         -0.072924   \n",
              "RestingECG_ST           1.000000         -0.107036          0.107036   \n",
              "ExerciseAngina_N       -0.107036          1.000000         -1.000000   \n",
              "ExerciseAngina_Y        0.107036         -1.000000          1.000000   \n",
              "ST_Slope_Down           0.030345         -0.136439          0.136439   \n",
              "ST_Slope_Flat           0.043017         -0.382237          0.382237   \n",
              "ST_Slope_Up            -0.058936          0.455676         -0.455676   \n",
              "\n",
              "                   ST_Slope_Down  ST_Slope_Flat  ST_Slope_Up  \n",
              "Age                     0.138397       0.185568    -0.258067  \n",
              "RestingBP              -0.007912       0.099207    -0.096146  \n",
              "Cholesterol            -0.083371      -0.050953     0.094027  \n",
              "FastingBS               0.105102       0.107006    -0.161730  \n",
              "MaxHR                  -0.073316      -0.342581     0.383397  \n",
              "Oldpeak                 0.322130       0.283295    -0.450577  \n",
              "HeartDisease            0.122527       0.554134    -0.622164  \n",
              "Sex_F                  -0.066036      -0.116077     0.150942  \n",
              "Sex_M                   0.066036       0.116077    -0.150942  \n",
              "ChestPainType_ASY       0.103407       0.303645    -0.359443  \n",
              "ChestPainType_ATA      -0.097754      -0.304667     0.357588  \n",
              "ChestPainType_NAP      -0.040816      -0.072031     0.093583  \n",
              "ChestPainType_TA        0.016651      -0.010486     0.002087  \n",
              "RestingECG_LVH          0.043755       0.015091    -0.037582  \n",
              "RestingECG_Normal      -0.060564      -0.047172     0.078563  \n",
              "RestingECG_ST           0.030345       0.043017    -0.058936  \n",
              "ExerciseAngina_N       -0.136439      -0.382237     0.455676  \n",
              "ExerciseAngina_Y        0.136439       0.382237    -0.455676  \n",
              "ST_Slope_Down           1.000000      -0.272040    -0.235904  \n",
              "ST_Slope_Flat          -0.272040       1.000000    -0.870951  \n",
              "ST_Slope_Up            -0.235904      -0.870951     1.000000  \n",
              "\n",
              "[21 rows x 21 columns]"
            ],
            "text/html": [
              "\n",
              "  <div id=\"df-17478d8e-2c97-4763-9af6-66ea7890bf8d\">\n",
              "    <div class=\"colab-df-container\">\n",
              "      <div>\n",
              "<style scoped>\n",
              "    .dataframe tbody tr th:only-of-type {\n",
              "        vertical-align: middle;\n",
              "    }\n",
              "\n",
              "    .dataframe tbody tr th {\n",
              "        vertical-align: top;\n",
              "    }\n",
              "\n",
              "    .dataframe thead th {\n",
              "        text-align: right;\n",
              "    }\n",
              "</style>\n",
              "<table border=\"1\" class=\"dataframe\">\n",
              "  <thead>\n",
              "    <tr style=\"text-align: right;\">\n",
              "      <th></th>\n",
              "      <th>Age</th>\n",
              "      <th>RestingBP</th>\n",
              "      <th>Cholesterol</th>\n",
              "      <th>FastingBS</th>\n",
              "      <th>MaxHR</th>\n",
              "      <th>Oldpeak</th>\n",
              "      <th>HeartDisease</th>\n",
              "      <th>Sex_F</th>\n",
              "      <th>Sex_M</th>\n",
              "      <th>ChestPainType_ASY</th>\n",
              "      <th>...</th>\n",
              "      <th>ChestPainType_NAP</th>\n",
              "      <th>ChestPainType_TA</th>\n",
              "      <th>RestingECG_LVH</th>\n",
              "      <th>RestingECG_Normal</th>\n",
              "      <th>RestingECG_ST</th>\n",
              "      <th>ExerciseAngina_N</th>\n",
              "      <th>ExerciseAngina_Y</th>\n",
              "      <th>ST_Slope_Down</th>\n",
              "      <th>ST_Slope_Flat</th>\n",
              "      <th>ST_Slope_Up</th>\n",
              "    </tr>\n",
              "  </thead>\n",
              "  <tbody>\n",
              "    <tr>\n",
              "      <th>Age</th>\n",
              "      <td>1.000000</td>\n",
              "      <td>0.254399</td>\n",
              "      <td>-0.095282</td>\n",
              "      <td>0.198039</td>\n",
              "      <td>-0.382045</td>\n",
              "      <td>0.258612</td>\n",
              "      <td>0.282039</td>\n",
              "      <td>-0.055750</td>\n",
              "      <td>0.055750</td>\n",
              "      <td>0.166607</td>\n",
              "      <td>...</td>\n",
              "      <td>-0.011335</td>\n",
              "      <td>0.032042</td>\n",
              "      <td>0.145727</td>\n",
              "      <td>-0.230566</td>\n",
              "      <td>0.136798</td>\n",
              "      <td>-0.215793</td>\n",
              "      <td>0.215793</td>\n",
              "      <td>0.138397</td>\n",
              "      <td>0.185568</td>\n",
              "      <td>-0.258067</td>\n",
              "    </tr>\n",
              "    <tr>\n",
              "      <th>RestingBP</th>\n",
              "      <td>0.254399</td>\n",
              "      <td>1.000000</td>\n",
              "      <td>0.100893</td>\n",
              "      <td>0.070193</td>\n",
              "      <td>-0.112135</td>\n",
              "      <td>0.164803</td>\n",
              "      <td>0.107589</td>\n",
              "      <td>-0.005133</td>\n",
              "      <td>0.005133</td>\n",
              "      <td>0.048824</td>\n",
              "      <td>...</td>\n",
              "      <td>-0.041348</td>\n",
              "      <td>0.049855</td>\n",
              "      <td>0.053166</td>\n",
              "      <td>-0.116851</td>\n",
              "      <td>0.090447</td>\n",
              "      <td>-0.155101</td>\n",
              "      <td>0.155101</td>\n",
              "      <td>-0.007912</td>\n",
              "      <td>0.099207</td>\n",
              "      <td>-0.096146</td>\n",
              "    </tr>\n",
              "    <tr>\n",
              "      <th>Cholesterol</th>\n",
              "      <td>-0.095282</td>\n",
              "      <td>0.100893</td>\n",
              "      <td>1.000000</td>\n",
              "      <td>-0.260974</td>\n",
              "      <td>0.235792</td>\n",
              "      <td>0.050148</td>\n",
              "      <td>-0.232741</td>\n",
              "      <td>0.200092</td>\n",
              "      <td>-0.200092</td>\n",
              "      <td>-0.120531</td>\n",
              "      <td>...</td>\n",
              "      <td>-0.006634</td>\n",
              "      <td>0.017365</td>\n",
              "      <td>0.177077</td>\n",
              "      <td>-0.038470</td>\n",
              "      <td>-0.133106</td>\n",
              "      <td>0.034166</td>\n",
              "      <td>-0.034166</td>\n",
              "      <td>-0.083371</td>\n",
              "      <td>-0.050953</td>\n",
              "      <td>0.094027</td>\n",
              "    </tr>\n",
              "    <tr>\n",
              "      <th>FastingBS</th>\n",
              "      <td>0.198039</td>\n",
              "      <td>0.070193</td>\n",
              "      <td>-0.260974</td>\n",
              "      <td>1.000000</td>\n",
              "      <td>-0.131438</td>\n",
              "      <td>0.052698</td>\n",
              "      <td>0.267291</td>\n",
              "      <td>-0.120076</td>\n",
              "      <td>0.120076</td>\n",
              "      <td>0.131176</td>\n",
              "      <td>...</td>\n",
              "      <td>-0.039249</td>\n",
              "      <td>0.026885</td>\n",
              "      <td>-0.011656</td>\n",
              "      <td>-0.093028</td>\n",
              "      <td>0.127110</td>\n",
              "      <td>-0.060451</td>\n",
              "      <td>0.060451</td>\n",
              "      <td>0.105102</td>\n",
              "      <td>0.107006</td>\n",
              "      <td>-0.161730</td>\n",
              "    </tr>\n",
              "    <tr>\n",
              "      <th>MaxHR</th>\n",
              "      <td>-0.382045</td>\n",
              "      <td>-0.112135</td>\n",
              "      <td>0.235792</td>\n",
              "      <td>-0.131438</td>\n",
              "      <td>1.000000</td>\n",
              "      <td>-0.160691</td>\n",
              "      <td>-0.400421</td>\n",
              "      <td>0.189186</td>\n",
              "      <td>-0.189186</td>\n",
              "      <td>-0.354963</td>\n",
              "      <td>...</td>\n",
              "      <td>0.134580</td>\n",
              "      <td>0.100025</td>\n",
              "      <td>0.125793</td>\n",
              "      <td>0.023801</td>\n",
              "      <td>-0.157879</td>\n",
              "      <td>0.370425</td>\n",
              "      <td>-0.370425</td>\n",
              "      <td>-0.073316</td>\n",
              "      <td>-0.342581</td>\n",
              "      <td>0.383397</td>\n",
              "    </tr>\n",
              "    <tr>\n",
              "      <th>Oldpeak</th>\n",
              "      <td>0.258612</td>\n",
              "      <td>0.164803</td>\n",
              "      <td>0.050148</td>\n",
              "      <td>0.052698</td>\n",
              "      <td>-0.160691</td>\n",
              "      <td>1.000000</td>\n",
              "      <td>0.403951</td>\n",
              "      <td>-0.105734</td>\n",
              "      <td>0.105734</td>\n",
              "      <td>0.280026</td>\n",
              "      <td>...</td>\n",
              "      <td>-0.106212</td>\n",
              "      <td>0.032231</td>\n",
              "      <td>0.086794</td>\n",
              "      <td>-0.116719</td>\n",
              "      <td>0.055958</td>\n",
              "      <td>-0.408752</td>\n",
              "      <td>0.408752</td>\n",
              "      <td>0.322130</td>\n",
              "      <td>0.283295</td>\n",
              "      <td>-0.450577</td>\n",
              "    </tr>\n",
              "    <tr>\n",
              "      <th>HeartDisease</th>\n",
              "      <td>0.282039</td>\n",
              "      <td>0.107589</td>\n",
              "      <td>-0.232741</td>\n",
              "      <td>0.267291</td>\n",
              "      <td>-0.400421</td>\n",
              "      <td>0.403951</td>\n",
              "      <td>1.000000</td>\n",
              "      <td>-0.305445</td>\n",
              "      <td>0.305445</td>\n",
              "      <td>0.516716</td>\n",
              "      <td>...</td>\n",
              "      <td>-0.212964</td>\n",
              "      <td>-0.054790</td>\n",
              "      <td>0.010670</td>\n",
              "      <td>-0.091580</td>\n",
              "      <td>0.102527</td>\n",
              "      <td>-0.494282</td>\n",
              "      <td>0.494282</td>\n",
              "      <td>0.122527</td>\n",
              "      <td>0.554134</td>\n",
              "      <td>-0.622164</td>\n",
              "    </tr>\n",
              "    <tr>\n",
              "      <th>Sex_F</th>\n",
              "      <td>-0.055750</td>\n",
              "      <td>-0.005133</td>\n",
              "      <td>0.200092</td>\n",
              "      <td>-0.120076</td>\n",
              "      <td>0.189186</td>\n",
              "      <td>-0.105734</td>\n",
              "      <td>-0.305445</td>\n",
              "      <td>1.000000</td>\n",
              "      <td>-1.000000</td>\n",
              "      <td>-0.183876</td>\n",
              "      <td>...</td>\n",
              "      <td>0.066486</td>\n",
              "      <td>0.004031</td>\n",
              "      <td>0.049518</td>\n",
              "      <td>0.010634</td>\n",
              "      <td>-0.063715</td>\n",
              "      <td>0.190664</td>\n",
              "      <td>-0.190664</td>\n",
              "      <td>-0.066036</td>\n",
              "      <td>-0.116077</td>\n",
              "      <td>0.150942</td>\n",
              "    </tr>\n",
              "    <tr>\n",
              "      <th>Sex_M</th>\n",
              "      <td>0.055750</td>\n",
              "      <td>0.005133</td>\n",
              "      <td>-0.200092</td>\n",
              "      <td>0.120076</td>\n",
              "      <td>-0.189186</td>\n",
              "      <td>0.105734</td>\n",
              "      <td>0.305445</td>\n",
              "      <td>-1.000000</td>\n",
              "      <td>1.000000</td>\n",
              "      <td>0.183876</td>\n",
              "      <td>...</td>\n",
              "      <td>-0.066486</td>\n",
              "      <td>-0.004031</td>\n",
              "      <td>-0.049518</td>\n",
              "      <td>-0.010634</td>\n",
              "      <td>0.063715</td>\n",
              "      <td>-0.190664</td>\n",
              "      <td>0.190664</td>\n",
              "      <td>0.066036</td>\n",
              "      <td>0.116077</td>\n",
              "      <td>-0.150942</td>\n",
              "    </tr>\n",
              "    <tr>\n",
              "      <th>ChestPainType_ASY</th>\n",
              "      <td>0.166607</td>\n",
              "      <td>0.048824</td>\n",
              "      <td>-0.120531</td>\n",
              "      <td>0.131176</td>\n",
              "      <td>-0.354963</td>\n",
              "      <td>0.280026</td>\n",
              "      <td>0.516716</td>\n",
              "      <td>-0.183876</td>\n",
              "      <td>0.183876</td>\n",
              "      <td>1.000000</td>\n",
              "      <td>...</td>\n",
              "      <td>-0.577670</td>\n",
              "      <td>-0.249003</td>\n",
              "      <td>0.002289</td>\n",
              "      <td>-0.063606</td>\n",
              "      <td>0.076438</td>\n",
              "      <td>-0.430034</td>\n",
              "      <td>0.430034</td>\n",
              "      <td>0.103407</td>\n",
              "      <td>0.303645</td>\n",
              "      <td>-0.359443</td>\n",
              "    </tr>\n",
              "    <tr>\n",
              "      <th>ChestPainType_ATA</th>\n",
              "      <td>-0.218165</td>\n",
              "      <td>-0.046153</td>\n",
              "      <td>0.150954</td>\n",
              "      <td>-0.140514</td>\n",
              "      <td>0.253735</td>\n",
              "      <td>-0.262124</td>\n",
              "      <td>-0.401924</td>\n",
              "      <td>0.161522</td>\n",
              "      <td>-0.161522</td>\n",
              "      <td>-0.522432</td>\n",
              "      <td>...</td>\n",
              "      <td>-0.256767</td>\n",
              "      <td>-0.110679</td>\n",
              "      <td>-0.085791</td>\n",
              "      <td>0.107941</td>\n",
              "      <td>-0.046111</td>\n",
              "      <td>0.300365</td>\n",
              "      <td>-0.300365</td>\n",
              "      <td>-0.097754</td>\n",
              "      <td>-0.304667</td>\n",
              "      <td>0.357588</td>\n",
              "    </tr>\n",
              "    <tr>\n",
              "      <th>ChestPainType_NAP</th>\n",
              "      <td>-0.011335</td>\n",
              "      <td>-0.041348</td>\n",
              "      <td>-0.006634</td>\n",
              "      <td>-0.039249</td>\n",
              "      <td>0.134580</td>\n",
              "      <td>-0.106212</td>\n",
              "      <td>-0.212964</td>\n",
              "      <td>0.066486</td>\n",
              "      <td>-0.066486</td>\n",
              "      <td>-0.577670</td>\n",
              "      <td>...</td>\n",
              "      <td>1.000000</td>\n",
              "      <td>-0.122381</td>\n",
              "      <td>0.035299</td>\n",
              "      <td>0.005010</td>\n",
              "      <td>-0.042236</td>\n",
              "      <td>0.166030</td>\n",
              "      <td>-0.166030</td>\n",
              "      <td>-0.040816</td>\n",
              "      <td>-0.072031</td>\n",
              "      <td>0.093583</td>\n",
              "    </tr>\n",
              "    <tr>\n",
              "      <th>ChestPainType_TA</th>\n",
              "      <td>0.032042</td>\n",
              "      <td>0.049855</td>\n",
              "      <td>0.017365</td>\n",
              "      <td>0.026885</td>\n",
              "      <td>0.100025</td>\n",
              "      <td>0.032231</td>\n",
              "      <td>-0.054790</td>\n",
              "      <td>0.004031</td>\n",
              "      <td>-0.004031</td>\n",
              "      <td>-0.249003</td>\n",
              "      <td>...</td>\n",
              "      <td>-0.122381</td>\n",
              "      <td>1.000000</td>\n",
              "      <td>0.081407</td>\n",
              "      <td>-0.057719</td>\n",
              "      <td>-0.011611</td>\n",
              "      <td>0.128105</td>\n",
              "      <td>-0.128105</td>\n",
              "      <td>0.016651</td>\n",
              "      <td>-0.010486</td>\n",
              "      <td>0.002087</td>\n",
              "    </tr>\n",
              "    <tr>\n",
              "      <th>RestingECG_LVH</th>\n",
              "      <td>0.145727</td>\n",
              "      <td>0.053166</td>\n",
              "      <td>0.177077</td>\n",
              "      <td>-0.011656</td>\n",
              "      <td>0.125793</td>\n",
              "      <td>0.086794</td>\n",
              "      <td>0.010670</td>\n",
              "      <td>0.049518</td>\n",
              "      <td>-0.049518</td>\n",
              "      <td>0.002289</td>\n",
              "      <td>...</td>\n",
              "      <td>0.035299</td>\n",
              "      <td>0.081407</td>\n",
              "      <td>1.000000</td>\n",
              "      <td>-0.623227</td>\n",
              "      <td>-0.248892</td>\n",
              "      <td>0.016382</td>\n",
              "      <td>-0.016382</td>\n",
              "      <td>0.043755</td>\n",
              "      <td>0.015091</td>\n",
              "      <td>-0.037582</td>\n",
              "    </tr>\n",
              "    <tr>\n",
              "      <th>RestingECG_Normal</th>\n",
              "      <td>-0.230566</td>\n",
              "      <td>-0.116851</td>\n",
              "      <td>-0.038470</td>\n",
              "      <td>-0.093028</td>\n",
              "      <td>0.023801</td>\n",
              "      <td>-0.116719</td>\n",
              "      <td>-0.091580</td>\n",
              "      <td>0.010634</td>\n",
              "      <td>-0.010634</td>\n",
              "      <td>-0.063606</td>\n",
              "      <td>...</td>\n",
              "      <td>0.005010</td>\n",
              "      <td>-0.057719</td>\n",
              "      <td>-0.623227</td>\n",
              "      <td>1.000000</td>\n",
              "      <td>-0.602314</td>\n",
              "      <td>0.072924</td>\n",
              "      <td>-0.072924</td>\n",
              "      <td>-0.060564</td>\n",
              "      <td>-0.047172</td>\n",
              "      <td>0.078563</td>\n",
              "    </tr>\n",
              "    <tr>\n",
              "      <th>RestingECG_ST</th>\n",
              "      <td>0.136798</td>\n",
              "      <td>0.090447</td>\n",
              "      <td>-0.133106</td>\n",
              "      <td>0.127110</td>\n",
              "      <td>-0.157879</td>\n",
              "      <td>0.055958</td>\n",
              "      <td>0.102527</td>\n",
              "      <td>-0.063715</td>\n",
              "      <td>0.063715</td>\n",
              "      <td>0.076438</td>\n",
              "      <td>...</td>\n",
              "      <td>-0.042236</td>\n",
              "      <td>-0.011611</td>\n",
              "      <td>-0.248892</td>\n",
              "      <td>-0.602314</td>\n",
              "      <td>1.000000</td>\n",
              "      <td>-0.107036</td>\n",
              "      <td>0.107036</td>\n",
              "      <td>0.030345</td>\n",
              "      <td>0.043017</td>\n",
              "      <td>-0.058936</td>\n",
              "    </tr>\n",
              "    <tr>\n",
              "      <th>ExerciseAngina_N</th>\n",
              "      <td>-0.215793</td>\n",
              "      <td>-0.155101</td>\n",
              "      <td>0.034166</td>\n",
              "      <td>-0.060451</td>\n",
              "      <td>0.370425</td>\n",
              "      <td>-0.408752</td>\n",
              "      <td>-0.494282</td>\n",
              "      <td>0.190664</td>\n",
              "      <td>-0.190664</td>\n",
              "      <td>-0.430034</td>\n",
              "      <td>...</td>\n",
              "      <td>0.166030</td>\n",
              "      <td>0.128105</td>\n",
              "      <td>0.016382</td>\n",
              "      <td>0.072924</td>\n",
              "      <td>-0.107036</td>\n",
              "      <td>1.000000</td>\n",
              "      <td>-1.000000</td>\n",
              "      <td>-0.136439</td>\n",
              "      <td>-0.382237</td>\n",
              "      <td>0.455676</td>\n",
              "    </tr>\n",
              "    <tr>\n",
              "      <th>ExerciseAngina_Y</th>\n",
              "      <td>0.215793</td>\n",
              "      <td>0.155101</td>\n",
              "      <td>-0.034166</td>\n",
              "      <td>0.060451</td>\n",
              "      <td>-0.370425</td>\n",
              "      <td>0.408752</td>\n",
              "      <td>0.494282</td>\n",
              "      <td>-0.190664</td>\n",
              "      <td>0.190664</td>\n",
              "      <td>0.430034</td>\n",
              "      <td>...</td>\n",
              "      <td>-0.166030</td>\n",
              "      <td>-0.128105</td>\n",
              "      <td>-0.016382</td>\n",
              "      <td>-0.072924</td>\n",
              "      <td>0.107036</td>\n",
              "      <td>-1.000000</td>\n",
              "      <td>1.000000</td>\n",
              "      <td>0.136439</td>\n",
              "      <td>0.382237</td>\n",
              "      <td>-0.455676</td>\n",
              "    </tr>\n",
              "    <tr>\n",
              "      <th>ST_Slope_Down</th>\n",
              "      <td>0.138397</td>\n",
              "      <td>-0.007912</td>\n",
              "      <td>-0.083371</td>\n",
              "      <td>0.105102</td>\n",
              "      <td>-0.073316</td>\n",
              "      <td>0.322130</td>\n",
              "      <td>0.122527</td>\n",
              "      <td>-0.066036</td>\n",
              "      <td>0.066036</td>\n",
              "      <td>0.103407</td>\n",
              "      <td>...</td>\n",
              "      <td>-0.040816</td>\n",
              "      <td>0.016651</td>\n",
              "      <td>0.043755</td>\n",
              "      <td>-0.060564</td>\n",
              "      <td>0.030345</td>\n",
              "      <td>-0.136439</td>\n",
              "      <td>0.136439</td>\n",
              "      <td>1.000000</td>\n",
              "      <td>-0.272040</td>\n",
              "      <td>-0.235904</td>\n",
              "    </tr>\n",
              "    <tr>\n",
              "      <th>ST_Slope_Flat</th>\n",
              "      <td>0.185568</td>\n",
              "      <td>0.099207</td>\n",
              "      <td>-0.050953</td>\n",
              "      <td>0.107006</td>\n",
              "      <td>-0.342581</td>\n",
              "      <td>0.283295</td>\n",
              "      <td>0.554134</td>\n",
              "      <td>-0.116077</td>\n",
              "      <td>0.116077</td>\n",
              "      <td>0.303645</td>\n",
              "      <td>...</td>\n",
              "      <td>-0.072031</td>\n",
              "      <td>-0.010486</td>\n",
              "      <td>0.015091</td>\n",
              "      <td>-0.047172</td>\n",
              "      <td>0.043017</td>\n",
              "      <td>-0.382237</td>\n",
              "      <td>0.382237</td>\n",
              "      <td>-0.272040</td>\n",
              "      <td>1.000000</td>\n",
              "      <td>-0.870951</td>\n",
              "    </tr>\n",
              "    <tr>\n",
              "      <th>ST_Slope_Up</th>\n",
              "      <td>-0.258067</td>\n",
              "      <td>-0.096146</td>\n",
              "      <td>0.094027</td>\n",
              "      <td>-0.161730</td>\n",
              "      <td>0.383397</td>\n",
              "      <td>-0.450577</td>\n",
              "      <td>-0.622164</td>\n",
              "      <td>0.150942</td>\n",
              "      <td>-0.150942</td>\n",
              "      <td>-0.359443</td>\n",
              "      <td>...</td>\n",
              "      <td>0.093583</td>\n",
              "      <td>0.002087</td>\n",
              "      <td>-0.037582</td>\n",
              "      <td>0.078563</td>\n",
              "      <td>-0.058936</td>\n",
              "      <td>0.455676</td>\n",
              "      <td>-0.455676</td>\n",
              "      <td>-0.235904</td>\n",
              "      <td>-0.870951</td>\n",
              "      <td>1.000000</td>\n",
              "    </tr>\n",
              "  </tbody>\n",
              "</table>\n",
              "<p>21 rows × 21 columns</p>\n",
              "</div>\n",
              "      <button class=\"colab-df-convert\" onclick=\"convertToInteractive('df-17478d8e-2c97-4763-9af6-66ea7890bf8d')\"\n",
              "              title=\"Convert this dataframe to an interactive table.\"\n",
              "              style=\"display:none;\">\n",
              "        \n",
              "  <svg xmlns=\"http://www.w3.org/2000/svg\" height=\"24px\"viewBox=\"0 0 24 24\"\n",
              "       width=\"24px\">\n",
              "    <path d=\"M0 0h24v24H0V0z\" fill=\"none\"/>\n",
              "    <path d=\"M18.56 5.44l.94 2.06.94-2.06 2.06-.94-2.06-.94-.94-2.06-.94 2.06-2.06.94zm-11 1L8.5 8.5l.94-2.06 2.06-.94-2.06-.94L8.5 2.5l-.94 2.06-2.06.94zm10 10l.94 2.06.94-2.06 2.06-.94-2.06-.94-.94-2.06-.94 2.06-2.06.94z\"/><path d=\"M17.41 7.96l-1.37-1.37c-.4-.4-.92-.59-1.43-.59-.52 0-1.04.2-1.43.59L10.3 9.45l-7.72 7.72c-.78.78-.78 2.05 0 2.83L4 21.41c.39.39.9.59 1.41.59.51 0 1.02-.2 1.41-.59l7.78-7.78 2.81-2.81c.8-.78.8-2.07 0-2.86zM5.41 20L4 18.59l7.72-7.72 1.47 1.35L5.41 20z\"/>\n",
              "  </svg>\n",
              "      </button>\n",
              "      \n",
              "  <style>\n",
              "    .colab-df-container {\n",
              "      display:flex;\n",
              "      flex-wrap:wrap;\n",
              "      gap: 12px;\n",
              "    }\n",
              "\n",
              "    .colab-df-convert {\n",
              "      background-color: #E8F0FE;\n",
              "      border: none;\n",
              "      border-radius: 50%;\n",
              "      cursor: pointer;\n",
              "      display: none;\n",
              "      fill: #1967D2;\n",
              "      height: 32px;\n",
              "      padding: 0 0 0 0;\n",
              "      width: 32px;\n",
              "    }\n",
              "\n",
              "    .colab-df-convert:hover {\n",
              "      background-color: #E2EBFA;\n",
              "      box-shadow: 0px 1px 2px rgba(60, 64, 67, 0.3), 0px 1px 3px 1px rgba(60, 64, 67, 0.15);\n",
              "      fill: #174EA6;\n",
              "    }\n",
              "\n",
              "    [theme=dark] .colab-df-convert {\n",
              "      background-color: #3B4455;\n",
              "      fill: #D2E3FC;\n",
              "    }\n",
              "\n",
              "    [theme=dark] .colab-df-convert:hover {\n",
              "      background-color: #434B5C;\n",
              "      box-shadow: 0px 1px 3px 1px rgba(0, 0, 0, 0.15);\n",
              "      filter: drop-shadow(0px 1px 2px rgba(0, 0, 0, 0.3));\n",
              "      fill: #FFFFFF;\n",
              "    }\n",
              "  </style>\n",
              "\n",
              "      <script>\n",
              "        const buttonEl =\n",
              "          document.querySelector('#df-17478d8e-2c97-4763-9af6-66ea7890bf8d button.colab-df-convert');\n",
              "        buttonEl.style.display =\n",
              "          google.colab.kernel.accessAllowed ? 'block' : 'none';\n",
              "\n",
              "        async function convertToInteractive(key) {\n",
              "          const element = document.querySelector('#df-17478d8e-2c97-4763-9af6-66ea7890bf8d');\n",
              "          const dataTable =\n",
              "            await google.colab.kernel.invokeFunction('convertToInteractive',\n",
              "                                                     [key], {});\n",
              "          if (!dataTable) return;\n",
              "\n",
              "          const docLinkHtml = 'Like what you see? Visit the ' +\n",
              "            '<a target=\"_blank\" href=https://colab.research.google.com/notebooks/data_table.ipynb>data table notebook</a>'\n",
              "            + ' to learn more about interactive tables.';\n",
              "          element.innerHTML = '';\n",
              "          dataTable['output_type'] = 'display_data';\n",
              "          await google.colab.output.renderOutput(dataTable, element);\n",
              "          const docLink = document.createElement('div');\n",
              "          docLink.innerHTML = docLinkHtml;\n",
              "          element.appendChild(docLink);\n",
              "        }\n",
              "      </script>\n",
              "    </div>\n",
              "  </div>\n",
              "  "
            ]
          },
          "metadata": {},
          "execution_count": 45
        }
      ]
    },
    {
      "cell_type": "code",
      "source": [
        ""
      ],
      "metadata": {
        "id": "Yk6x5zQWYeKx"
      },
      "execution_count": 45,
      "outputs": []
    },
    {
      "cell_type": "markdown",
      "source": [
        "# Feature Selection"
      ],
      "metadata": {
        "id": "cG24pAbrYryN"
      }
    },
    {
      "cell_type": "code",
      "source": [
        "y = df.HeartDisease.copy()\n",
        "X = df.drop(['HeartDisease'], axis=1)"
      ],
      "metadata": {
        "id": "duMonfeDYuBD"
      },
      "execution_count": 55,
      "outputs": []
    },
    {
      "cell_type": "code",
      "source": [
        "y_new = y.values\n",
        "X_new = X.values"
      ],
      "metadata": {
        "id": "U_s4PzXcm3sj"
      },
      "execution_count": 56,
      "outputs": []
    },
    {
      "cell_type": "markdown",
      "source": [
        "## Univariate Selection"
      ],
      "metadata": {
        "id": "NwyLaOcGoBub"
      }
    },
    {
      "cell_type": "code",
      "source": [
        "from sklearn.feature_selection import SelectKBest\n",
        "from sklearn.feature_selection import f_classif\n",
        "from numpy import set_printoptions"
      ],
      "metadata": {
        "id": "0hC2jHyGYtor"
      },
      "execution_count": 51,
      "outputs": []
    },
    {
      "cell_type": "code",
      "source": [
        "test = SelectKBest(score_func=f_classif, k=4)\n",
        "fit = test.fit(X_new, y_new)"
      ],
      "metadata": {
        "id": "I_yjzTd5ZjK8"
      },
      "execution_count": 49,
      "outputs": []
    },
    {
      "cell_type": "code",
      "source": [
        "set_printoptions(precision=3)\n",
        "print(fit.scores_)"
      ],
      "metadata": {
        "colab": {
          "base_uri": "https://localhost:8080/"
        },
        "id": "kdkq1a-JZkqo",
        "outputId": "cc34ddd5-be49-4fa6-a4df-8d9b06561493"
      },
      "execution_count": 52,
      "outputs": [
        {
          "output_type": "stream",
          "name": "stdout",
          "text": [
            "[7.916e+01 1.073e+01 5.246e+01 7.048e+01 1.749e+02 1.786e+02 9.425e+01\n",
            " 9.425e+01 3.337e+02 1.765e+02 4.352e+01 2.758e+00 1.043e-01 7.747e+00\n",
            " 9.731e+00 2.961e+02 2.961e+02 1.396e+01 4.059e+02 5.785e+02]\n"
          ]
        }
      ]
    },
    {
      "cell_type": "code",
      "source": [
        "features = fit.transform(X_new)\n",
        "# summarize selected features\n",
        "print(features[0:5,:])"
      ],
      "metadata": {
        "colab": {
          "base_uri": "https://localhost:8080/"
        },
        "id": "tBZ7pJa5Znyz",
        "outputId": "1b19f3c6-5dfb-4061-d0dd-6f50e5fe42e4"
      },
      "execution_count": 54,
      "outputs": [
        {
          "output_type": "stream",
          "name": "stdout",
          "text": [
            "[[0. 0. 0. 1.]\n",
            " [0. 0. 1. 0.]\n",
            " [0. 0. 0. 1.]\n",
            " [1. 1. 1. 0.]\n",
            " [0. 0. 0. 1.]]\n"
          ]
        }
      ]
    },
    {
      "cell_type": "markdown",
      "source": [
        "## Recursive Feature Elimination"
      ],
      "metadata": {
        "id": "kxf91ekGoJjc"
      }
    },
    {
      "cell_type": "code",
      "source": [
        "from sklearn.linear_model import LogisticRegression\n",
        "from sklearn.feature_selection import RFE"
      ],
      "metadata": {
        "id": "hM8xsjYSoUS9"
      },
      "execution_count": 58,
      "outputs": []
    },
    {
      "cell_type": "code",
      "source": [
        "features = (X.columns)"
      ],
      "metadata": {
        "id": "88of8h4CpAnn"
      },
      "execution_count": 70,
      "outputs": []
    },
    {
      "cell_type": "code",
      "source": [
        "model = LogisticRegression(solver='lbfgs')\n",
        "rfe = RFE(model, n_features_to_select=5)\n",
        "fit = rfe.fit(X_new, y_new)\n",
        "print(\"Num Features: %d\" % fit.n_features_)\n",
        "print(\"Selected Features: %s\" % fit.support_)\n",
        "print(\"Feature Ranking: %s\" % fit.ranking_)"
      ],
      "metadata": {
        "colab": {
          "base_uri": "https://localhost:8080/"
        },
        "id": "o1i2H7NmoMl1",
        "outputId": "6c4b2602-a0b3-430f-abd7-9e309e3b7213"
      },
      "execution_count": 61,
      "outputs": [
        {
          "output_type": "stream",
          "name": "stderr",
          "text": [
            "/usr/local/lib/python3.7/dist-packages/sklearn/linear_model/_logistic.py:818: ConvergenceWarning: lbfgs failed to converge (status=1):\n",
            "STOP: TOTAL NO. of ITERATIONS REACHED LIMIT.\n",
            "\n",
            "Increase the number of iterations (max_iter) or scale the data as shown in:\n",
            "    https://scikit-learn.org/stable/modules/preprocessing.html\n",
            "Please also refer to the documentation for alternative solver options:\n",
            "    https://scikit-learn.org/stable/modules/linear_model.html#logistic-regression\n",
            "  extra_warning_msg=_LOGISTIC_SOLVER_CONVERGENCE_MSG,\n",
            "/usr/local/lib/python3.7/dist-packages/sklearn/linear_model/_logistic.py:818: ConvergenceWarning: lbfgs failed to converge (status=1):\n",
            "STOP: TOTAL NO. of ITERATIONS REACHED LIMIT.\n",
            "\n",
            "Increase the number of iterations (max_iter) or scale the data as shown in:\n",
            "    https://scikit-learn.org/stable/modules/preprocessing.html\n",
            "Please also refer to the documentation for alternative solver options:\n",
            "    https://scikit-learn.org/stable/modules/linear_model.html#logistic-regression\n",
            "  extra_warning_msg=_LOGISTIC_SOLVER_CONVERGENCE_MSG,\n",
            "/usr/local/lib/python3.7/dist-packages/sklearn/linear_model/_logistic.py:818: ConvergenceWarning: lbfgs failed to converge (status=1):\n",
            "STOP: TOTAL NO. of ITERATIONS REACHED LIMIT.\n",
            "\n",
            "Increase the number of iterations (max_iter) or scale the data as shown in:\n",
            "    https://scikit-learn.org/stable/modules/preprocessing.html\n",
            "Please also refer to the documentation for alternative solver options:\n",
            "    https://scikit-learn.org/stable/modules/linear_model.html#logistic-regression\n",
            "  extra_warning_msg=_LOGISTIC_SOLVER_CONVERGENCE_MSG,\n",
            "/usr/local/lib/python3.7/dist-packages/sklearn/linear_model/_logistic.py:818: ConvergenceWarning: lbfgs failed to converge (status=1):\n",
            "STOP: TOTAL NO. of ITERATIONS REACHED LIMIT.\n",
            "\n",
            "Increase the number of iterations (max_iter) or scale the data as shown in:\n",
            "    https://scikit-learn.org/stable/modules/preprocessing.html\n",
            "Please also refer to the documentation for alternative solver options:\n",
            "    https://scikit-learn.org/stable/modules/linear_model.html#logistic-regression\n",
            "  extra_warning_msg=_LOGISTIC_SOLVER_CONVERGENCE_MSG,\n"
          ]
        },
        {
          "output_type": "stream",
          "name": "stdout",
          "text": [
            "Num Features: 5\n",
            "Selected Features: [False False False  True False False False  True  True False False False\n",
            " False False False False  True False False  True]\n",
            "Feature Ranking: [13 16 15  1 14  6  3  1  1  5  7  8 12 10  9  4  1 11  2  1]\n"
          ]
        }
      ]
    },
    {
      "cell_type": "code",
      "source": [
        "features[fit.support_]"
      ],
      "metadata": {
        "colab": {
          "base_uri": "https://localhost:8080/"
        },
        "id": "HUVGN13aogOA",
        "outputId": "792ed922-5ff4-49cf-8676-073c8b6f03a3"
      },
      "execution_count": 72,
      "outputs": [
        {
          "output_type": "execute_result",
          "data": {
            "text/plain": [
              "Index(['FastingBS', 'Sex_M', 'ChestPainType_ASY', 'ExerciseAngina_Y',\n",
              "       'ST_Slope_Up'],\n",
              "      dtype='object')"
            ]
          },
          "metadata": {},
          "execution_count": 72
        }
      ]
    },
    {
      "cell_type": "code",
      "source": [
        ""
      ],
      "metadata": {
        "id": "-ALzPgMtpM4R"
      },
      "execution_count": null,
      "outputs": []
    },
    {
      "cell_type": "markdown",
      "source": [
        "# Logistic Regression"
      ],
      "metadata": {
        "id": "7aan-KJepqgx"
      }
    },
    {
      "cell_type": "code",
      "source": [
        "from sklearn.model_selection import train_test_split"
      ],
      "metadata": {
        "id": "ltNDi7YXpwzc"
      },
      "execution_count": 73,
      "outputs": []
    },
    {
      "cell_type": "code",
      "source": [
        "X_train, X_test, y_train, y_test = train_test_split(X, y, test_size=0.35)"
      ],
      "metadata": {
        "id": "pZDc-AcCp5fI"
      },
      "execution_count": 75,
      "outputs": []
    },
    {
      "cell_type": "code",
      "source": [
        "model = LogisticRegression(max_iter=10**4)\n",
        "model.fit(X_train, y_train)"
      ],
      "metadata": {
        "colab": {
          "base_uri": "https://localhost:8080/"
        },
        "id": "ytsMqQDNpsQd",
        "outputId": "3abd887b-964d-4cb6-cb62-4ecf3395d87b"
      },
      "execution_count": 76,
      "outputs": [
        {
          "output_type": "execute_result",
          "data": {
            "text/plain": [
              "LogisticRegression(max_iter=10000)"
            ]
          },
          "metadata": {},
          "execution_count": 76
        }
      ]
    },
    {
      "cell_type": "code",
      "source": [
        "y_pred = pd.Series(model.predict(X_test))\n",
        "y_test = y_test.reset_index(drop=True)\n",
        "z = pd.concat([y_test, y_pred], axis=1)\n",
        "z.columns = ['True', 'Prediction']\n",
        "z.head(1000)"
      ],
      "metadata": {
        "colab": {
          "base_uri": "https://localhost:8080/",
          "height": 424
        },
        "id": "j50g-7F-qFpg",
        "outputId": "e223e19b-236d-4190-9cbf-fb32fd19bf88"
      },
      "execution_count": 77,
      "outputs": [
        {
          "output_type": "execute_result",
          "data": {
            "text/plain": [
              "     True  Prediction\n",
              "0       0           0\n",
              "1       1           1\n",
              "2       0           0\n",
              "3       1           0\n",
              "4       0           0\n",
              "..    ...         ...\n",
              "317     0           0\n",
              "318     1           1\n",
              "319     0           0\n",
              "320     1           1\n",
              "321     1           1\n",
              "\n",
              "[322 rows x 2 columns]"
            ],
            "text/html": [
              "\n",
              "  <div id=\"df-5e64c212-386d-4dd0-bf0a-7ad870238bca\">\n",
              "    <div class=\"colab-df-container\">\n",
              "      <div>\n",
              "<style scoped>\n",
              "    .dataframe tbody tr th:only-of-type {\n",
              "        vertical-align: middle;\n",
              "    }\n",
              "\n",
              "    .dataframe tbody tr th {\n",
              "        vertical-align: top;\n",
              "    }\n",
              "\n",
              "    .dataframe thead th {\n",
              "        text-align: right;\n",
              "    }\n",
              "</style>\n",
              "<table border=\"1\" class=\"dataframe\">\n",
              "  <thead>\n",
              "    <tr style=\"text-align: right;\">\n",
              "      <th></th>\n",
              "      <th>True</th>\n",
              "      <th>Prediction</th>\n",
              "    </tr>\n",
              "  </thead>\n",
              "  <tbody>\n",
              "    <tr>\n",
              "      <th>0</th>\n",
              "      <td>0</td>\n",
              "      <td>0</td>\n",
              "    </tr>\n",
              "    <tr>\n",
              "      <th>1</th>\n",
              "      <td>1</td>\n",
              "      <td>1</td>\n",
              "    </tr>\n",
              "    <tr>\n",
              "      <th>2</th>\n",
              "      <td>0</td>\n",
              "      <td>0</td>\n",
              "    </tr>\n",
              "    <tr>\n",
              "      <th>3</th>\n",
              "      <td>1</td>\n",
              "      <td>0</td>\n",
              "    </tr>\n",
              "    <tr>\n",
              "      <th>4</th>\n",
              "      <td>0</td>\n",
              "      <td>0</td>\n",
              "    </tr>\n",
              "    <tr>\n",
              "      <th>...</th>\n",
              "      <td>...</td>\n",
              "      <td>...</td>\n",
              "    </tr>\n",
              "    <tr>\n",
              "      <th>317</th>\n",
              "      <td>0</td>\n",
              "      <td>0</td>\n",
              "    </tr>\n",
              "    <tr>\n",
              "      <th>318</th>\n",
              "      <td>1</td>\n",
              "      <td>1</td>\n",
              "    </tr>\n",
              "    <tr>\n",
              "      <th>319</th>\n",
              "      <td>0</td>\n",
              "      <td>0</td>\n",
              "    </tr>\n",
              "    <tr>\n",
              "      <th>320</th>\n",
              "      <td>1</td>\n",
              "      <td>1</td>\n",
              "    </tr>\n",
              "    <tr>\n",
              "      <th>321</th>\n",
              "      <td>1</td>\n",
              "      <td>1</td>\n",
              "    </tr>\n",
              "  </tbody>\n",
              "</table>\n",
              "<p>322 rows × 2 columns</p>\n",
              "</div>\n",
              "      <button class=\"colab-df-convert\" onclick=\"convertToInteractive('df-5e64c212-386d-4dd0-bf0a-7ad870238bca')\"\n",
              "              title=\"Convert this dataframe to an interactive table.\"\n",
              "              style=\"display:none;\">\n",
              "        \n",
              "  <svg xmlns=\"http://www.w3.org/2000/svg\" height=\"24px\"viewBox=\"0 0 24 24\"\n",
              "       width=\"24px\">\n",
              "    <path d=\"M0 0h24v24H0V0z\" fill=\"none\"/>\n",
              "    <path d=\"M18.56 5.44l.94 2.06.94-2.06 2.06-.94-2.06-.94-.94-2.06-.94 2.06-2.06.94zm-11 1L8.5 8.5l.94-2.06 2.06-.94-2.06-.94L8.5 2.5l-.94 2.06-2.06.94zm10 10l.94 2.06.94-2.06 2.06-.94-2.06-.94-.94-2.06-.94 2.06-2.06.94z\"/><path d=\"M17.41 7.96l-1.37-1.37c-.4-.4-.92-.59-1.43-.59-.52 0-1.04.2-1.43.59L10.3 9.45l-7.72 7.72c-.78.78-.78 2.05 0 2.83L4 21.41c.39.39.9.59 1.41.59.51 0 1.02-.2 1.41-.59l7.78-7.78 2.81-2.81c.8-.78.8-2.07 0-2.86zM5.41 20L4 18.59l7.72-7.72 1.47 1.35L5.41 20z\"/>\n",
              "  </svg>\n",
              "      </button>\n",
              "      \n",
              "  <style>\n",
              "    .colab-df-container {\n",
              "      display:flex;\n",
              "      flex-wrap:wrap;\n",
              "      gap: 12px;\n",
              "    }\n",
              "\n",
              "    .colab-df-convert {\n",
              "      background-color: #E8F0FE;\n",
              "      border: none;\n",
              "      border-radius: 50%;\n",
              "      cursor: pointer;\n",
              "      display: none;\n",
              "      fill: #1967D2;\n",
              "      height: 32px;\n",
              "      padding: 0 0 0 0;\n",
              "      width: 32px;\n",
              "    }\n",
              "\n",
              "    .colab-df-convert:hover {\n",
              "      background-color: #E2EBFA;\n",
              "      box-shadow: 0px 1px 2px rgba(60, 64, 67, 0.3), 0px 1px 3px 1px rgba(60, 64, 67, 0.15);\n",
              "      fill: #174EA6;\n",
              "    }\n",
              "\n",
              "    [theme=dark] .colab-df-convert {\n",
              "      background-color: #3B4455;\n",
              "      fill: #D2E3FC;\n",
              "    }\n",
              "\n",
              "    [theme=dark] .colab-df-convert:hover {\n",
              "      background-color: #434B5C;\n",
              "      box-shadow: 0px 1px 3px 1px rgba(0, 0, 0, 0.15);\n",
              "      filter: drop-shadow(0px 1px 2px rgba(0, 0, 0, 0.3));\n",
              "      fill: #FFFFFF;\n",
              "    }\n",
              "  </style>\n",
              "\n",
              "      <script>\n",
              "        const buttonEl =\n",
              "          document.querySelector('#df-5e64c212-386d-4dd0-bf0a-7ad870238bca button.colab-df-convert');\n",
              "        buttonEl.style.display =\n",
              "          google.colab.kernel.accessAllowed ? 'block' : 'none';\n",
              "\n",
              "        async function convertToInteractive(key) {\n",
              "          const element = document.querySelector('#df-5e64c212-386d-4dd0-bf0a-7ad870238bca');\n",
              "          const dataTable =\n",
              "            await google.colab.kernel.invokeFunction('convertToInteractive',\n",
              "                                                     [key], {});\n",
              "          if (!dataTable) return;\n",
              "\n",
              "          const docLinkHtml = 'Like what you see? Visit the ' +\n",
              "            '<a target=\"_blank\" href=https://colab.research.google.com/notebooks/data_table.ipynb>data table notebook</a>'\n",
              "            + ' to learn more about interactive tables.';\n",
              "          element.innerHTML = '';\n",
              "          dataTable['output_type'] = 'display_data';\n",
              "          await google.colab.output.renderOutput(dataTable, element);\n",
              "          const docLink = document.createElement('div');\n",
              "          docLink.innerHTML = docLinkHtml;\n",
              "          element.appendChild(docLink);\n",
              "        }\n",
              "      </script>\n",
              "    </div>\n",
              "  </div>\n",
              "  "
            ]
          },
          "metadata": {},
          "execution_count": 77
        }
      ]
    },
    {
      "cell_type": "code",
      "source": [
        "from sklearn import metrics\n",
        "print(\"Accuracy:\", metrics.accuracy_score(y_test, y_pred))\n",
        "print(\"Precision:\", metrics.precision_score(y_test, y_pred))\n",
        "print(\"Recall:\", metrics.recall_score(y_test, y_pred))\n",
        "print(\"F1:\",metrics.f1_score(y_test, y_pred))\n",
        "metrics.plot_roc_curve(model,X_test,y_test)"
      ],
      "metadata": {
        "colab": {
          "base_uri": "https://localhost:8080/",
          "height": 424
        },
        "id": "vsv0woXVrqZK",
        "outputId": "e19e113b-8754-4b69-f44f-2e0243e904b1"
      },
      "execution_count": 79,
      "outputs": [
        {
          "output_type": "stream",
          "name": "stdout",
          "text": [
            "Accuracy: 0.8850931677018633\n",
            "Precision: 0.9010416666666666\n",
            "Recall: 0.9057591623036649\n",
            "F1: 0.9033942558746737\n"
          ]
        },
        {
          "output_type": "stream",
          "name": "stderr",
          "text": [
            "/usr/local/lib/python3.7/dist-packages/sklearn/utils/deprecation.py:87: FutureWarning: Function plot_roc_curve is deprecated; Function :func:`plot_roc_curve` is deprecated in 1.0 and will be removed in 1.2. Use one of the class methods: :meth:`sklearn.metric.RocCurveDisplay.from_predictions` or :meth:`sklearn.metric.RocCurveDisplay.from_estimator`.\n",
            "  warnings.warn(msg, category=FutureWarning)\n"
          ]
        },
        {
          "output_type": "execute_result",
          "data": {
            "text/plain": [
              "<sklearn.metrics._plot.roc_curve.RocCurveDisplay at 0x7fe7481298d0>"
            ]
          },
          "metadata": {},
          "execution_count": 79
        },
        {
          "output_type": "display_data",
          "data": {
            "text/plain": [
              "<Figure size 432x288 with 1 Axes>"
            ],
            "image/png": "[encoded data removed]"
          },
          "metadata": {
            "needs_background": "light"
          }
        }
      ]
    },
    {
      "cell_type": "code",
      "source": [
        "cnf_matrix = metrics.confusion_matrix(y_test, y_pred)"
      ],
      "metadata": {
        "id": "TXv1dGJArw5c"
      },
      "execution_count": 80,
      "outputs": []
    },
    {
      "cell_type": "code",
      "source": [
        "cnf_matrix"
      ],
      "metadata": {
        "colab": {
          "base_uri": "https://localhost:8080/"
        },
        "id": "_XUGZzIzr6Wq",
        "outputId": "f783bfc9-84e7-4d07-e61f-326a2ed2eac8"
      },
      "execution_count": 81,
      "outputs": [
        {
          "output_type": "execute_result",
          "data": {
            "text/plain": [
              "array([[112,  19],\n",
              "       [ 18, 173]])"
            ]
          },
          "metadata": {},
          "execution_count": 81
        }
      ]
    },
    {
      "cell_type": "code",
      "source": [
        "import matplotlib.pyplot as plt\n",
        "import seaborn as sns\n",
        "cnf_matrix = metrics.confusion_matrix(y_test, y_pred)\n",
        "\n",
        "labels = [0.0, 1.0]\n",
        "fig, ax = plt.subplots()\n",
        "tick_marks = np.arange(len(labels))\n",
        "plt.xticks(tick_marks, labels)\n",
        "plt.yticks(tick_marks, labels)\n",
        "# create heatmap\n",
        "sns.heatmap(pd.DataFrame(cnf_matrix), annot=True, cmap=\"YlGnBu\", fmt='g')\n",
        "ax.xaxis.set_label_position(\"top\")\n",
        "plt.title('Confusion matrix', y=1.1)\n",
        "plt.ylabel('True')\n",
        "plt.xlabel('Predicted')"
      ],
      "metadata": {
        "colab": {
          "base_uri": "https://localhost:8080/",
          "height": 311
        },
        "id": "zVyjOMuQr8R_",
        "outputId": "290eec84-6b68-4f78-c42a-7231961fd62a"
      },
      "execution_count": 82,
      "outputs": [
        {
          "output_type": "execute_result",
          "data": {
            "text/plain": [
              "Text(0.5, 15.0, 'Predicted')"
            ]
          },
          "metadata": {},
          "execution_count": 82
        },
        {
          "output_type": "display_data",
          "data": {
            "text/plain": [
              "<Figure size 432x288 with 2 Axes>"
            ],
            "image/png": "[encoded data removed]"
          },
          "metadata": {
            "needs_background": "light"
          }
        }
      ]
    },
    {
      "cell_type": "markdown",
      "source": [
        "## Decision Trees"
      ],
      "metadata": {
        "id": "owm2oHtjzBVW"
      }
    },
    {
      "cell_type": "code",
      "source": [
        "from sklearn.tree import DecisionTreeClassifier\n",
        "clf_en = DecisionTreeClassifier(criterion='gini', max_depth=3, random_state=1)\n",
        "clf_en.fit(X_train, y_train)\n",
        "y_pred_en = clf_en.predict(X_test)"
      ],
      "metadata": {
        "id": "pQyyllrwy3De"
      },
      "execution_count": 104,
      "outputs": []
    },
    {
      "cell_type": "code",
      "source": [
        "print(\"Accuracy:\", metrics.accuracy_score(y_test, y_pred_en))\n",
        "print(\"Precision:\", metrics.precision_score(y_test, y_pred_en))\n",
        "print(\"Recall:\", metrics.recall_score(y_test, y_pred_en))\n",
        "print(\"F1:\",metrics.f1_score(y_test, y_pred_en))\n",
        "metrics.plot_roc_curve(clf_en,X_test,y_test)"
      ],
      "metadata": {
        "colab": {
          "base_uri": "https://localhost:8080/",
          "height": 424
        },
        "id": "08ydO1qlzQDq",
        "outputId": "32b952d7-21ed-4545-ea0a-4e6a0c62b08a"
      },
      "execution_count": 105,
      "outputs": [
        {
          "output_type": "stream",
          "name": "stdout",
          "text": [
            "Accuracy: 0.8354037267080745\n",
            "Precision: 0.8484848484848485\n",
            "Recall: 0.8795811518324608\n",
            "F1: 0.8637532133676092\n"
          ]
        },
        {
          "output_type": "stream",
          "name": "stderr",
          "text": [
            "/usr/local/lib/python3.7/dist-packages/sklearn/utils/deprecation.py:87: FutureWarning: Function plot_roc_curve is deprecated; Function :func:`plot_roc_curve` is deprecated in 1.0 and will be removed in 1.2. Use one of the class methods: :meth:`sklearn.metric.RocCurveDisplay.from_predictions` or :meth:`sklearn.metric.RocCurveDisplay.from_estimator`.\n",
            "  warnings.warn(msg, category=FutureWarning)\n"
          ]
        },
        {
          "output_type": "execute_result",
          "data": {
            "text/plain": [
              "<sklearn.metrics._plot.roc_curve.RocCurveDisplay at 0x7fe74688e310>"
            ]
          },
          "metadata": {},
          "execution_count": 105
        },
        {
          "output_type": "display_data",
          "data": {
            "text/plain": [
              "<Figure size 432x288 with 1 Axes>"
            ],
            "image/png": "[encoded data removed]"
          },
          "metadata": {
            "needs_background": "light"
          }
        }
      ]
    },
    {
      "cell_type": "code",
      "source": [
        "metrics.confusion_matrix(y_test, y_pred_en)"
      ],
      "metadata": {
        "colab": {
          "base_uri": "https://localhost:8080/"
        },
        "id": "_4OjSkZ_zAq3",
        "outputId": "2be80b63-ebe2-4407-e75e-a991b4ba5991"
      },
      "execution_count": 106,
      "outputs": [
        {
          "output_type": "execute_result",
          "data": {
            "text/plain": [
              "array([[101,  30],\n",
              "       [ 23, 168]])"
            ]
          },
          "metadata": {},
          "execution_count": 106
        }
      ]
    },
    {
      "cell_type": "code",
      "source": [
        "import matplotlib.pyplot as plt\n",
        "import seaborn as sns\n",
        "cnf_matrix = metrics.confusion_matrix(y_test, y_pred_en)\n",
        "\n",
        "labels = [0.0, 1.0]\n",
        "fig, ax = plt.subplots()\n",
        "tick_marks = np.arange(len(labels))\n",
        "plt.xticks(tick_marks, labels)\n",
        "plt.yticks(tick_marks, labels)\n",
        "# create heatmap\n",
        "sns.heatmap(pd.DataFrame(cnf_matrix), annot=True, cmap=\"YlGnBu\", fmt='g')\n",
        "ax.xaxis.set_label_position(\"top\")\n",
        "plt.title('Confusion matrix', y=1.1)\n",
        "plt.ylabel('True')\n",
        "plt.xlabel('Predicted')"
      ],
      "metadata": {
        "colab": {
          "base_uri": "https://localhost:8080/",
          "height": 311
        },
        "id": "Dnm4xCOKzVD3",
        "outputId": "6fc3d520-9c38-44e0-b9d7-1c6b56be24db"
      },
      "execution_count": 107,
      "outputs": [
        {
          "output_type": "execute_result",
          "data": {
            "text/plain": [
              "Text(0.5, 15.0, 'Predicted')"
            ]
          },
          "metadata": {},
          "execution_count": 107
        },
        {
          "output_type": "display_data",
          "data": {
            "text/plain": [
              "<Figure size 432x288 with 2 Axes>"
            ],
            "image/png": "[encoded data removed]"
          },
          "metadata": {
            "needs_background": "light"
          }
        }
      ]
    },
    {
      "cell_type": "code",
      "source": [
        ""
      ],
      "metadata": {
        "id": "T4_qLe4hztbq"
      },
      "execution_count": null,
      "outputs": []
    },
    {
      "cell_type": "markdown",
      "source": [
        "## SVC"
      ],
      "metadata": {
        "id": "qN3HM_e31CE2"
      }
    },
    {
      "cell_type": "code",
      "source": [
        "from sklearn import svm"
      ],
      "metadata": {
        "id": "4LPvOnSN1eBw"
      },
      "execution_count": 109,
      "outputs": []
    },
    {
      "cell_type": "code",
      "source": [
        "clf = svm.SVC(kernel='linear',degree =2)\n",
        "clf = clf.fit(X_train, y_train)"
      ],
      "metadata": {
        "id": "qOaiT3h61Ult"
      },
      "execution_count": 150,
      "outputs": []
    },
    {
      "cell_type": "code",
      "source": [
        "predictions = clf.predict(X_test)"
      ],
      "metadata": {
        "id": "i_t75QR81Ys3"
      },
      "execution_count": 151,
      "outputs": []
    },
    {
      "cell_type": "code",
      "source": [
        "print(\"Accuracy:\", metrics.accuracy_score(y_test, predictions))\n",
        "print(\"Precision:\", metrics.precision_score(y_test, predictions))\n",
        "print(\"Recall:\", metrics.recall_score(y_test, predictions))\n",
        "print(\"F1:\",metrics.f1_score(y_test, predictions))\n",
        "metrics.plot_roc_curve(clf,X_test,y_test)"
      ],
      "metadata": {
        "colab": {
          "base_uri": "https://localhost:8080/",
          "height": 424
        },
        "id": "sukyh3x81Yu5",
        "outputId": "f5746a41-b4e6-490d-d34c-81fabd4d024e"
      },
      "execution_count": 152,
      "outputs": [
        {
          "output_type": "stream",
          "name": "stdout",
          "text": [
            "Accuracy: 0.8913043478260869\n",
            "Precision: 0.9105263157894737\n",
            "Recall: 0.9057591623036649\n",
            "F1: 0.9081364829396327\n"
          ]
        },
        {
          "output_type": "stream",
          "name": "stderr",
          "text": [
            "/usr/local/lib/python3.7/dist-packages/sklearn/utils/deprecation.py:87: FutureWarning: Function plot_roc_curve is deprecated; Function :func:`plot_roc_curve` is deprecated in 1.0 and will be removed in 1.2. Use one of the class methods: :meth:`sklearn.metric.RocCurveDisplay.from_predictions` or :meth:`sklearn.metric.RocCurveDisplay.from_estimator`.\n",
            "  warnings.warn(msg, category=FutureWarning)\n"
          ]
        },
        {
          "output_type": "execute_result",
          "data": {
            "text/plain": [
              "<sklearn.metrics._plot.roc_curve.RocCurveDisplay at 0x7fe7460a0e90>"
            ]
          },
          "metadata": {},
          "execution_count": 152
        },
        {
          "output_type": "display_data",
          "data": {
            "text/plain": [
              "<Figure size 432x288 with 1 Axes>"
            ],
            "image/png": "[encoded data removed]"
          },
          "metadata": {
            "needs_background": "light"
          }
        }
      ]
    },
    {
      "cell_type": "code",
      "source": [
        "cnf_matrix = metrics.confusion_matrix(y_test, predictions)\n",
        "cnf_matrix"
      ],
      "metadata": {
        "colab": {
          "base_uri": "https://localhost:8080/"
        },
        "id": "93nG9NPj1t7g",
        "outputId": "55e8e449-11cf-4a3f-8e49-cfd1a94313cc"
      },
      "execution_count": 153,
      "outputs": [
        {
          "output_type": "execute_result",
          "data": {
            "text/plain": [
              "array([[114,  17],\n",
              "       [ 18, 173]])"
            ]
          },
          "metadata": {},
          "execution_count": 153
        }
      ]
    },
    {
      "cell_type": "code",
      "source": [
        "cnf_matrix = metrics.confusion_matrix(y_test, predictions)\n",
        "\n",
        "labels = [0.0, 1.0]\n",
        "fig, ax = plt.subplots()\n",
        "tick_marks = np.arange(len(labels))\n",
        "plt.xticks(tick_marks, labels)\n",
        "plt.yticks(tick_marks, labels)\n",
        "# create heatmap\n",
        "sns.heatmap(pd.DataFrame(cnf_matrix), annot=True, cmap=\"YlGnBu\", fmt='g')\n",
        "ax.xaxis.set_label_position(\"top\")\n",
        "plt.title('Confusion matrix', y=1.1)\n",
        "plt.ylabel('True')\n",
        "plt.xlabel('Predicted')"
      ],
      "metadata": {
        "colab": {
          "base_uri": "https://localhost:8080/",
          "height": 311
        },
        "id": "Nll1eZoj1Yxc",
        "outputId": "dc9b185d-f385-4f50-804e-6e6b0d280972"
      },
      "execution_count": 154,
      "outputs": [
        {
          "output_type": "execute_result",
          "data": {
            "text/plain": [
              "Text(0.5, 15.0, 'Predicted')"
            ]
          },
          "metadata": {},
          "execution_count": 154
        },
        {
          "output_type": "display_data",
          "data": {
            "text/plain": [
              "<Figure size 432x288 with 2 Axes>"
            ],
            "image/png": "[encoded data removed]"
          },
          "metadata": {
            "needs_background": "light"
          }
        }
      ]
    },
    {
      "cell_type": "markdown",
      "source": [
        "## LSTM"
      ],
      "metadata": {
        "id": "S1Gsu5NM2_b2"
      }
    },
    {
      "cell_type": "code",
      "source": [
        "from sklearn.preprocessing import LabelBinarizer\n",
        "encoder = LabelBinarizer()\n",
        "y = encoder.fit_transform(y)"
      ],
      "metadata": {
        "id": "opNcF7JUDKy7"
      },
      "execution_count": 176,
      "outputs": []
    },
    {
      "cell_type": "code",
      "source": [
        "X_train, X_test, y_train, y_test = train_test_split(X, y, test_size=0.35)"
      ],
      "metadata": {
        "id": "RloZLjmyDK1a"
      },
      "execution_count": 177,
      "outputs": []
    },
    {
      "cell_type": "code",
      "source": [
        "len(X_train.columns)"
      ],
      "metadata": {
        "colab": {
          "base_uri": "https://localhost:8080/"
        },
        "id": "sUif4HwJCRbq",
        "outputId": "4cb55ee6-997e-413c-a06a-2e0f07fd6450"
      },
      "execution_count": 178,
      "outputs": [
        {
          "output_type": "execute_result",
          "data": {
            "text/plain": [
              "20"
            ]
          },
          "metadata": {},
          "execution_count": 178
        }
      ]
    },
    {
      "cell_type": "code",
      "source": [
        "from tensorflow.keras.models import Sequential\n",
        "from tensorflow.keras.layers import Conv2D, MaxPool2D, Flatten, Dense, Dropout, LSTM\n",
        "import tensorflow as tf"
      ],
      "metadata": {
        "id": "yrNJtLt43Bh_"
      },
      "execution_count": 179,
      "outputs": []
    },
    {
      "cell_type": "code",
      "source": [
        "from sklearn.preprocessing import MinMaxScaler\n",
        "import tensorflow as tf\n",
        "scaler = MinMaxScaler()\n",
        "scaler.fit(X_train)\n",
        "scaled_X_train = scaler.transform(X_train)\n",
        "scaled_X_test = scaler.transform(X_test)"
      ],
      "metadata": {
        "id": "hRMMxfK71sJv"
      },
      "execution_count": 180,
      "outputs": []
    },
    {
      "cell_type": "code",
      "source": [
        "model = Sequential()\n",
        "#model.add(Dense(128, activation='relu', input_shape=[16,]))\n",
        "model.add(LSTM(20,input_shape=([20,1]),activation='tanh',recurrent_activation='sigmoid'))\n",
        "model.add(Dense(128, activation='relu', input_shape=[20,]))\n",
        "#model.add(LSTM(8,activation='sigmoid'))\n",
        "model.add(Dense(2, activation='sigmoid'))\n",
        "model.add(Dense(2, activation='relu'))\n",
        "model.compile(optimizer='adam', loss=tf.keras.losses.SparseCategoricalCrossentropy(from_logits=True), metrics=['accuracy'])"
      ],
      "metadata": {
        "id": "4tFn8Nr997JR"
      },
      "execution_count": 202,
      "outputs": []
    },
    {
      "cell_type": "code",
      "source": [
        "model.fit(x=scaled_X_train, y=y_train, epochs=5, validation_data=(scaled_X_test, y_test))"
      ],
      "metadata": {
        "colab": {
          "base_uri": "https://localhost:8080/"
        },
        "id": "QwLqEjan97Lq",
        "outputId": "3019aa93-955d-4087-8171-1d7cc8059943"
      },
      "execution_count": 203,
      "outputs": [
        {
          "output_type": "stream",
          "name": "stdout",
          "text": [
            "Epoch 1/5\n",
            "19/19 [==============================] - 4s 40ms/step - loss: 0.6931 - accuracy: 0.4329 - val_loss: 0.6931 - val_accuracy: 0.4720\n",
            "Epoch 2/5\n",
            "19/19 [==============================] - 0s 11ms/step - loss: 0.6931 - accuracy: 0.4329 - val_loss: 0.6931 - val_accuracy: 0.4720\n",
            "Epoch 3/5\n",
            "19/19 [==============================] - 0s 12ms/step - loss: 0.6931 - accuracy: 0.4329 - val_loss: 0.6931 - val_accuracy: 0.4720\n",
            "Epoch 4/5\n",
            "19/19 [==============================] - 0s 11ms/step - loss: 0.6931 - accuracy: 0.4329 - val_loss: 0.6931 - val_accuracy: 0.4720\n",
            "Epoch 5/5\n",
            "19/19 [==============================] - 0s 11ms/step - loss: 0.6931 - accuracy: 0.4329 - val_loss: 0.6931 - val_accuracy: 0.4720\n"
          ]
        },
        {
          "output_type": "execute_result",
          "data": {
            "text/plain": [
              "<keras.callbacks.History at 0x7fe6cd8d47d0>"
            ]
          },
          "metadata": {},
          "execution_count": 203
        }
      ]
    },
    {
      "cell_type": "code",
      "source": [
        "model.evaluate(scaled_X_test, y_test, verbose=1)\n",
        "y_pred=model.predict(scaled_X_test, verbose=1)\n",
        "y_pred_inv = encoder.inverse_transform(y_pred)"
      ],
      "metadata": {
        "colab": {
          "base_uri": "https://localhost:8080/"
        },
        "id": "4Rpuej-O97N8",
        "outputId": "414eb62e-99e9-4846-880f-d63c7eaec6a0"
      },
      "execution_count": 204,
      "outputs": [
        {
          "output_type": "stream",
          "name": "stdout",
          "text": [
            "11/11 [==============================] - 0s 3ms/step - loss: 0.6931 - accuracy: 0.4720\n",
            "11/11 [==============================] - 0s 3ms/step\n"
          ]
        }
      ]
    },
    {
      "cell_type": "code",
      "source": [
        "y_pred_inv"
      ],
      "metadata": {
        "colab": {
          "base_uri": "https://localhost:8080/"
        },
        "id": "a082ztFbDGuj",
        "outputId": "9d11e445-f00e-488d-ad8d-8ace15b26718"
      },
      "execution_count": 205,
      "outputs": [
        {
          "output_type": "execute_result",
          "data": {
            "text/plain": [
              "array([0, 0, 0, 0, 0, 0, 0, 0, 0, 0, 0, 0, 0, 0, 0, 0, 0, 0, 0, 0, 0, 0,\n",
              "       0, 0, 0, 0, 0, 0, 0, 0, 0, 0, 0, 0, 0, 0, 0, 0, 0, 0, 0, 0, 0, 0,\n",
              "       0, 0, 0, 0, 0, 0, 0, 0, 0, 0, 0, 0, 0, 0, 0, 0, 0, 0, 0, 0, 0, 0,\n",
              "       0, 0, 0, 0, 0, 0, 0, 0, 0, 0, 0, 0, 0, 0, 0, 0, 0, 0, 0, 0, 0, 0,\n",
              "       0, 0, 0, 0, 0, 0, 0, 0, 0, 0, 0, 0, 0, 0, 0, 0, 0, 0, 0, 0, 0, 0,\n",
              "       0, 0, 0, 0, 0, 0, 0, 0, 0, 0, 0, 0, 0, 0, 0, 0, 0, 0, 0, 0, 0, 0,\n",
              "       0, 0, 0, 0, 0, 0, 0, 0, 0, 0, 0, 0, 0, 0, 0, 0, 0, 0, 0, 0, 0, 0,\n",
              "       0, 0, 0, 0, 0, 0, 0, 0, 0, 0, 0, 0, 0, 0, 0, 0, 0, 0, 0, 0, 0, 0,\n",
              "       0, 0, 0, 0, 0, 0, 0, 0, 0, 0, 0, 0, 0, 0, 0, 0, 0, 0, 0, 0, 0, 0,\n",
              "       0, 0, 0, 0, 0, 0, 0, 0, 0, 0, 0, 0, 0, 0, 0, 0, 0, 0, 0, 0, 0, 0,\n",
              "       0, 0, 0, 0, 0, 0, 0, 0, 0, 0, 0, 0, 0, 0, 0, 0, 0, 0, 0, 0, 0, 0,\n",
              "       0, 0, 0, 0, 0, 0, 0, 0, 0, 0, 0, 0, 0, 0, 0, 0, 0, 0, 0, 0, 0, 0,\n",
              "       0, 0, 0, 0, 0, 0, 0, 0, 0, 0, 0, 0, 0, 0, 0, 0, 0, 0, 0, 0, 0, 0,\n",
              "       0, 0, 0, 0, 0, 0, 0, 0, 0, 0, 0, 0, 0, 0, 0, 0, 0, 0, 0, 0, 0, 0,\n",
              "       0, 0, 0, 0, 0, 0, 0, 0, 0, 0, 0, 0, 0, 0])"
            ]
          },
          "metadata": {},
          "execution_count": 205
        }
      ]
    },
    {
      "cell_type": "code",
      "source": [
        "import matplotlib.pyplot as plt\n",
        "import seaborn as sns\n",
        "cnf_matrix = metrics.confusion_matrix(y_test, y_pred_inv)\n",
        "\n",
        "labels = [0.0, 1.0]\n",
        "fig, ax = plt.subplots()\n",
        "tick_marks = np.arange(len(labels))\n",
        "plt.xticks(tick_marks, labels)\n",
        "plt.yticks(tick_marks, labels)\n",
        "# create heatmap\n",
        "sns.heatmap(pd.DataFrame(cnf_matrix), annot=True, cmap=\"YlGnBu\", fmt='g')\n",
        "ax.xaxis.set_label_position(\"top\")\n",
        "plt.title('Confusion matrix', y=1.1)\n",
        "plt.ylabel('True')\n",
        "plt.xlabel('Predicted')"
      ],
      "metadata": {
        "colab": {
          "base_uri": "https://localhost:8080/",
          "height": 311
        },
        "id": "ax9GhF8p97QY",
        "outputId": "feb78d73-63b3-4c16-fa87-dca9e0d6d0a5"
      },
      "execution_count": 187,
      "outputs": [
        {
          "output_type": "execute_result",
          "data": {
            "text/plain": [
              "Text(0.5, 15.0, 'Predicted')"
            ]
          },
          "metadata": {},
          "execution_count": 187
        },
        {
          "output_type": "display_data",
          "data": {
            "text/plain": [
              "<Figure size 432x288 with 2 Axes>"
            ],
            "image/png": "[encoded data removed]"
          },
          "metadata": {
            "needs_background": "light"
          }
        }
      ]
    },
    {
      "cell_type": "markdown",
      "source": [
        "## NN Binary Classifier"
      ],
      "metadata": {
        "id": "CtrBdw8k3CBA"
      }
    },
    {
      "cell_type": "code",
      "source": [
        "model = Sequential()\n",
        "model.add(Dense(256, activation='relu', input_dim=20))\n",
        "model.add(Dense(128, activation='relu', input_dim=20))\n",
        "model.add(Dense(1, activation='sigmoid'))\n",
        "model.compile(optimizer='adam', loss='binary_crossentropy', metrics=['accuracy'])\n",
        "hist = model.fit(X, y, epochs=100, batch_size=20, validation_split=0.2)"
      ],
      "metadata": {
        "colab": {
          "base_uri": "https://localhost:8080/"
        },
        "id": "vw-c8EVP3DgL",
        "outputId": "c13b54ec-d669-4413-e31f-f848362d036b"
      },
      "execution_count": 225,
      "outputs": [
        {
          "output_type": "stream",
          "name": "stdout",
          "text": [
            "Epoch 1/100\n",
            "37/37 [==============================] - 1s 14ms/step - loss: 2.2420 - accuracy: 0.5940 - val_loss: 0.6687 - val_accuracy: 0.7228\n",
            "Epoch 2/100\n",
            "37/37 [==============================] - 0s 5ms/step - loss: 0.6309 - accuracy: 0.7275 - val_loss: 0.5267 - val_accuracy: 0.7120\n",
            "Epoch 3/100\n",
            "37/37 [==============================] - 0s 5ms/step - loss: 0.7500 - accuracy: 0.6866 - val_loss: 0.8542 - val_accuracy: 0.6685\n",
            "Epoch 4/100\n",
            "37/37 [==============================] - 0s 4ms/step - loss: 0.5120 - accuracy: 0.7698 - val_loss: 0.8154 - val_accuracy: 0.5978\n",
            "Epoch 5/100\n",
            "37/37 [==============================] - 0s 4ms/step - loss: 0.8063 - accuracy: 0.6894 - val_loss: 0.6340 - val_accuracy: 0.7283\n",
            "Epoch 6/100\n",
            "37/37 [==============================] - 0s 5ms/step - loss: 0.4556 - accuracy: 0.8202 - val_loss: 0.5872 - val_accuracy: 0.7391\n",
            "Epoch 7/100\n",
            "37/37 [==============================] - 0s 4ms/step - loss: 0.4171 - accuracy: 0.8188 - val_loss: 0.4395 - val_accuracy: 0.7880\n",
            "Epoch 8/100\n",
            "37/37 [==============================] - 0s 4ms/step - loss: 0.3894 - accuracy: 0.8447 - val_loss: 0.4881 - val_accuracy: 0.7989\n",
            "Epoch 9/100\n",
            "37/37 [==============================] - 0s 4ms/step - loss: 0.5300 - accuracy: 0.7657 - val_loss: 0.4788 - val_accuracy: 0.7935\n",
            "Epoch 10/100\n",
            "37/37 [==============================] - 0s 4ms/step - loss: 0.4131 - accuracy: 0.8297 - val_loss: 0.4076 - val_accuracy: 0.8098\n",
            "Epoch 11/100\n",
            "37/37 [==============================] - 0s 4ms/step - loss: 0.4276 - accuracy: 0.8283 - val_loss: 0.6672 - val_accuracy: 0.7446\n",
            "Epoch 12/100\n",
            "37/37 [==============================] - 0s 5ms/step - loss: 0.4063 - accuracy: 0.8392 - val_loss: 0.6264 - val_accuracy: 0.7446\n",
            "Epoch 13/100\n",
            "37/37 [==============================] - 0s 4ms/step - loss: 0.3763 - accuracy: 0.8719 - val_loss: 0.4559 - val_accuracy: 0.8207\n",
            "Epoch 14/100\n",
            "37/37 [==============================] - 0s 4ms/step - loss: 0.3331 - accuracy: 0.8733 - val_loss: 0.4699 - val_accuracy: 0.7880\n",
            "Epoch 15/100\n",
            "37/37 [==============================] - 0s 5ms/step - loss: 0.5896 - accuracy: 0.7929 - val_loss: 0.5861 - val_accuracy: 0.7772\n",
            "Epoch 16/100\n",
            "37/37 [==============================] - 0s 6ms/step - loss: 0.3960 - accuracy: 0.8556 - val_loss: 0.4330 - val_accuracy: 0.8152\n",
            "Epoch 17/100\n",
            "37/37 [==============================] - 0s 6ms/step - loss: 0.4580 - accuracy: 0.8229 - val_loss: 1.0188 - val_accuracy: 0.6033\n",
            "Epoch 18/100\n",
            "37/37 [==============================] - 0s 3ms/step - loss: 0.4721 - accuracy: 0.8351 - val_loss: 0.5712 - val_accuracy: 0.7663\n",
            "Epoch 19/100\n",
            "37/37 [==============================] - 0s 3ms/step - loss: 0.4568 - accuracy: 0.8351 - val_loss: 0.6486 - val_accuracy: 0.7772\n",
            "Epoch 20/100\n",
            "37/37 [==============================] - 0s 3ms/step - loss: 0.4570 - accuracy: 0.8283 - val_loss: 0.5964 - val_accuracy: 0.7283\n",
            "Epoch 21/100\n",
            "37/37 [==============================] - 0s 3ms/step - loss: 0.3848 - accuracy: 0.8678 - val_loss: 0.4504 - val_accuracy: 0.8043\n",
            "Epoch 22/100\n",
            "37/37 [==============================] - 0s 3ms/step - loss: 0.3776 - accuracy: 0.8529 - val_loss: 0.4959 - val_accuracy: 0.7554\n",
            "Epoch 23/100\n",
            "37/37 [==============================] - 0s 3ms/step - loss: 0.3288 - accuracy: 0.8733 - val_loss: 0.4541 - val_accuracy: 0.7935\n",
            "Epoch 24/100\n",
            "37/37 [==============================] - 0s 3ms/step - loss: 0.4060 - accuracy: 0.8420 - val_loss: 1.5651 - val_accuracy: 0.5000\n",
            "Epoch 25/100\n",
            "37/37 [==============================] - 0s 3ms/step - loss: 0.5537 - accuracy: 0.7997 - val_loss: 0.4541 - val_accuracy: 0.8043\n",
            "Epoch 26/100\n",
            "37/37 [==============================] - 0s 3ms/step - loss: 0.3703 - accuracy: 0.8665 - val_loss: 0.6370 - val_accuracy: 0.7120\n",
            "Epoch 27/100\n",
            "37/37 [==============================] - 0s 3ms/step - loss: 0.3501 - accuracy: 0.8542 - val_loss: 0.5305 - val_accuracy: 0.7337\n",
            "Epoch 28/100\n",
            "37/37 [==============================] - 0s 3ms/step - loss: 0.3270 - accuracy: 0.8692 - val_loss: 0.4525 - val_accuracy: 0.8043\n",
            "Epoch 29/100\n",
            "37/37 [==============================] - 0s 3ms/step - loss: 0.3665 - accuracy: 0.8706 - val_loss: 0.4946 - val_accuracy: 0.7826\n",
            "Epoch 30/100\n",
            "37/37 [==============================] - 0s 3ms/step - loss: 0.4367 - accuracy: 0.8311 - val_loss: 0.5595 - val_accuracy: 0.7989\n",
            "Epoch 31/100\n",
            "37/37 [==============================] - 0s 3ms/step - loss: 0.3180 - accuracy: 0.8856 - val_loss: 0.4860 - val_accuracy: 0.7935\n",
            "Epoch 32/100\n",
            "37/37 [==============================] - 0s 3ms/step - loss: 0.3783 - accuracy: 0.8665 - val_loss: 0.4569 - val_accuracy: 0.8098\n",
            "Epoch 33/100\n",
            "37/37 [==============================] - 0s 3ms/step - loss: 0.3519 - accuracy: 0.8678 - val_loss: 0.4862 - val_accuracy: 0.7826\n",
            "Epoch 34/100\n",
            "37/37 [==============================] - 0s 3ms/step - loss: 0.3115 - accuracy: 0.8869 - val_loss: 0.5060 - val_accuracy: 0.7446\n",
            "Epoch 35/100\n",
            "37/37 [==============================] - 0s 3ms/step - loss: 0.3160 - accuracy: 0.8774 - val_loss: 0.4631 - val_accuracy: 0.7826\n",
            "Epoch 36/100\n",
            "37/37 [==============================] - 0s 3ms/step - loss: 0.3040 - accuracy: 0.8787 - val_loss: 0.5050 - val_accuracy: 0.7772\n",
            "Epoch 37/100\n",
            "37/37 [==============================] - 0s 3ms/step - loss: 0.3620 - accuracy: 0.8760 - val_loss: 0.4564 - val_accuracy: 0.8261\n",
            "Epoch 38/100\n",
            "37/37 [==============================] - 0s 3ms/step - loss: 0.3280 - accuracy: 0.8678 - val_loss: 0.4790 - val_accuracy: 0.7717\n",
            "Epoch 39/100\n",
            "37/37 [==============================] - 0s 3ms/step - loss: 0.3196 - accuracy: 0.8869 - val_loss: 0.4474 - val_accuracy: 0.8043\n",
            "Epoch 40/100\n",
            "37/37 [==============================] - 0s 3ms/step - loss: 0.3362 - accuracy: 0.8706 - val_loss: 0.4544 - val_accuracy: 0.8207\n",
            "Epoch 41/100\n",
            "37/37 [==============================] - 0s 3ms/step - loss: 0.3035 - accuracy: 0.8869 - val_loss: 0.7071 - val_accuracy: 0.7391\n",
            "Epoch 42/100\n",
            "37/37 [==============================] - 0s 10ms/step - loss: 0.4465 - accuracy: 0.8202 - val_loss: 0.9467 - val_accuracy: 0.6902\n",
            "Epoch 43/100\n",
            "37/37 [==============================] - 0s 10ms/step - loss: 0.3394 - accuracy: 0.8815 - val_loss: 0.4627 - val_accuracy: 0.7989\n",
            "Epoch 44/100\n",
            "37/37 [==============================] - 0s 6ms/step - loss: 0.3200 - accuracy: 0.8719 - val_loss: 0.4478 - val_accuracy: 0.8043\n",
            "Epoch 45/100\n",
            "37/37 [==============================] - 0s 4ms/step - loss: 0.3018 - accuracy: 0.8896 - val_loss: 0.4602 - val_accuracy: 0.7989\n",
            "Epoch 46/100\n",
            "37/37 [==============================] - 0s 3ms/step - loss: 0.3052 - accuracy: 0.8883 - val_loss: 0.5340 - val_accuracy: 0.7989\n",
            "Epoch 47/100\n",
            "37/37 [==============================] - 0s 3ms/step - loss: 0.3451 - accuracy: 0.8692 - val_loss: 0.4611 - val_accuracy: 0.7935\n",
            "Epoch 48/100\n",
            "37/37 [==============================] - 0s 3ms/step - loss: 0.2995 - accuracy: 0.8815 - val_loss: 0.6738 - val_accuracy: 0.7554\n",
            "Epoch 49/100\n",
            "37/37 [==============================] - 0s 3ms/step - loss: 0.3549 - accuracy: 0.8638 - val_loss: 0.6756 - val_accuracy: 0.7011\n",
            "Epoch 50/100\n",
            "37/37 [==============================] - 0s 3ms/step - loss: 0.3850 - accuracy: 0.8447 - val_loss: 0.5292 - val_accuracy: 0.7772\n",
            "Epoch 51/100\n",
            "37/37 [==============================] - 0s 3ms/step - loss: 0.3228 - accuracy: 0.8774 - val_loss: 0.4811 - val_accuracy: 0.7880\n",
            "Epoch 52/100\n",
            "37/37 [==============================] - 0s 3ms/step - loss: 0.3311 - accuracy: 0.8665 - val_loss: 0.6311 - val_accuracy: 0.7065\n",
            "Epoch 53/100\n",
            "37/37 [==============================] - 0s 3ms/step - loss: 0.4586 - accuracy: 0.8283 - val_loss: 0.5554 - val_accuracy: 0.7935\n",
            "Epoch 54/100\n",
            "37/37 [==============================] - 0s 3ms/step - loss: 0.3989 - accuracy: 0.8692 - val_loss: 0.4552 - val_accuracy: 0.7772\n",
            "Epoch 55/100\n",
            "37/37 [==============================] - 0s 3ms/step - loss: 0.3055 - accuracy: 0.8856 - val_loss: 0.4709 - val_accuracy: 0.7880\n",
            "Epoch 56/100\n",
            "37/37 [==============================] - 0s 3ms/step - loss: 0.3311 - accuracy: 0.8706 - val_loss: 0.7297 - val_accuracy: 0.7120\n",
            "Epoch 57/100\n",
            "37/37 [==============================] - 0s 3ms/step - loss: 0.4034 - accuracy: 0.8379 - val_loss: 0.5299 - val_accuracy: 0.7989\n",
            "Epoch 58/100\n",
            "37/37 [==============================] - 0s 3ms/step - loss: 0.3098 - accuracy: 0.8883 - val_loss: 0.4552 - val_accuracy: 0.8043\n",
            "Epoch 59/100\n",
            "37/37 [==============================] - 0s 3ms/step - loss: 0.2861 - accuracy: 0.8856 - val_loss: 0.4558 - val_accuracy: 0.7989\n",
            "Epoch 60/100\n",
            "37/37 [==============================] - 0s 3ms/step - loss: 0.3369 - accuracy: 0.8706 - val_loss: 0.4878 - val_accuracy: 0.7609\n",
            "Epoch 61/100\n",
            "37/37 [==============================] - 0s 3ms/step - loss: 0.2775 - accuracy: 0.8937 - val_loss: 0.5403 - val_accuracy: 0.7500\n",
            "Epoch 62/100\n",
            "37/37 [==============================] - 0s 3ms/step - loss: 0.2914 - accuracy: 0.8869 - val_loss: 0.5362 - val_accuracy: 0.7500\n",
            "Epoch 63/100\n",
            "37/37 [==============================] - 0s 3ms/step - loss: 0.2959 - accuracy: 0.8924 - val_loss: 0.5641 - val_accuracy: 0.7554\n",
            "Epoch 64/100\n",
            "37/37 [==============================] - 0s 3ms/step - loss: 0.3232 - accuracy: 0.8678 - val_loss: 0.7165 - val_accuracy: 0.7283\n",
            "Epoch 65/100\n",
            "37/37 [==============================] - 0s 3ms/step - loss: 0.3715 - accuracy: 0.8542 - val_loss: 0.6761 - val_accuracy: 0.7500\n",
            "Epoch 66/100\n",
            "37/37 [==============================] - 0s 3ms/step - loss: 0.3447 - accuracy: 0.8529 - val_loss: 0.5931 - val_accuracy: 0.7826\n",
            "Epoch 67/100\n",
            "37/37 [==============================] - 0s 3ms/step - loss: 0.2863 - accuracy: 0.9005 - val_loss: 0.4606 - val_accuracy: 0.7880\n",
            "Epoch 68/100\n",
            "37/37 [==============================] - 0s 3ms/step - loss: 0.3032 - accuracy: 0.8815 - val_loss: 0.5010 - val_accuracy: 0.8098\n",
            "Epoch 69/100\n",
            "37/37 [==============================] - 0s 3ms/step - loss: 0.3013 - accuracy: 0.8896 - val_loss: 0.4736 - val_accuracy: 0.7772\n",
            "Epoch 70/100\n",
            "37/37 [==============================] - 0s 3ms/step - loss: 0.2955 - accuracy: 0.8883 - val_loss: 0.5110 - val_accuracy: 0.7826\n",
            "Epoch 71/100\n",
            "37/37 [==============================] - 0s 3ms/step - loss: 0.2912 - accuracy: 0.8842 - val_loss: 0.5071 - val_accuracy: 0.7717\n",
            "Epoch 72/100\n",
            "37/37 [==============================] - 0s 3ms/step - loss: 0.2928 - accuracy: 0.8992 - val_loss: 0.4621 - val_accuracy: 0.7880\n",
            "Epoch 73/100\n",
            "37/37 [==============================] - 0s 3ms/step - loss: 0.2905 - accuracy: 0.8937 - val_loss: 0.5843 - val_accuracy: 0.7500\n",
            "Epoch 74/100\n",
            "37/37 [==============================] - 0s 3ms/step - loss: 0.3594 - accuracy: 0.8474 - val_loss: 0.7641 - val_accuracy: 0.6902\n",
            "Epoch 75/100\n",
            "37/37 [==============================] - 0s 3ms/step - loss: 0.3472 - accuracy: 0.8719 - val_loss: 0.4602 - val_accuracy: 0.7989\n",
            "Epoch 76/100\n",
            "37/37 [==============================] - 0s 3ms/step - loss: 0.2984 - accuracy: 0.8760 - val_loss: 0.5401 - val_accuracy: 0.7609\n",
            "Epoch 77/100\n",
            "37/37 [==============================] - 0s 3ms/step - loss: 0.2890 - accuracy: 0.8896 - val_loss: 0.4740 - val_accuracy: 0.7826\n",
            "Epoch 78/100\n",
            "37/37 [==============================] - 0s 3ms/step - loss: 0.2668 - accuracy: 0.8992 - val_loss: 0.4510 - val_accuracy: 0.7826\n",
            "Epoch 79/100\n",
            "37/37 [==============================] - 0s 3ms/step - loss: 0.3060 - accuracy: 0.8774 - val_loss: 0.6676 - val_accuracy: 0.7446\n",
            "Epoch 80/100\n",
            "37/37 [==============================] - 0s 3ms/step - loss: 0.2864 - accuracy: 0.8801 - val_loss: 0.5504 - val_accuracy: 0.7717\n",
            "Epoch 81/100\n",
            "37/37 [==============================] - 0s 3ms/step - loss: 0.3017 - accuracy: 0.8692 - val_loss: 0.4788 - val_accuracy: 0.7826\n",
            "Epoch 82/100\n",
            "37/37 [==============================] - 0s 3ms/step - loss: 0.2942 - accuracy: 0.8828 - val_loss: 0.4778 - val_accuracy: 0.7880\n",
            "Epoch 83/100\n",
            "37/37 [==============================] - 0s 3ms/step - loss: 0.2690 - accuracy: 0.9060 - val_loss: 0.4480 - val_accuracy: 0.7989\n",
            "Epoch 84/100\n",
            "37/37 [==============================] - 0s 3ms/step - loss: 0.2861 - accuracy: 0.8951 - val_loss: 0.5020 - val_accuracy: 0.7880\n",
            "Epoch 85/100\n",
            "37/37 [==============================] - 0s 3ms/step - loss: 0.3378 - accuracy: 0.8665 - val_loss: 0.4619 - val_accuracy: 0.7989\n",
            "Epoch 86/100\n",
            "37/37 [==============================] - 0s 3ms/step - loss: 0.2818 - accuracy: 0.8815 - val_loss: 0.4593 - val_accuracy: 0.7935\n",
            "Epoch 87/100\n",
            "37/37 [==============================] - 0s 3ms/step - loss: 0.2648 - accuracy: 0.8951 - val_loss: 0.4481 - val_accuracy: 0.7880\n",
            "Epoch 88/100\n",
            "37/37 [==============================] - 0s 3ms/step - loss: 0.2904 - accuracy: 0.8747 - val_loss: 0.5055 - val_accuracy: 0.7989\n",
            "Epoch 89/100\n",
            "37/37 [==============================] - 0s 3ms/step - loss: 0.2955 - accuracy: 0.8856 - val_loss: 0.4650 - val_accuracy: 0.7826\n",
            "Epoch 90/100\n",
            "37/37 [==============================] - 0s 3ms/step - loss: 0.3640 - accuracy: 0.8515 - val_loss: 0.4760 - val_accuracy: 0.7880\n",
            "Epoch 91/100\n",
            "37/37 [==============================] - 0s 3ms/step - loss: 0.2868 - accuracy: 0.8951 - val_loss: 0.4496 - val_accuracy: 0.7880\n",
            "Epoch 92/100\n",
            "37/37 [==============================] - 0s 3ms/step - loss: 0.2622 - accuracy: 0.8828 - val_loss: 0.4649 - val_accuracy: 0.7826\n",
            "Epoch 93/100\n",
            "37/37 [==============================] - 0s 3ms/step - loss: 0.3021 - accuracy: 0.8869 - val_loss: 0.4883 - val_accuracy: 0.7989\n",
            "Epoch 94/100\n",
            "37/37 [==============================] - 0s 3ms/step - loss: 0.2888 - accuracy: 0.8937 - val_loss: 0.4554 - val_accuracy: 0.7935\n",
            "Epoch 95/100\n",
            "37/37 [==============================] - 0s 3ms/step - loss: 0.2766 - accuracy: 0.8896 - val_loss: 0.5740 - val_accuracy: 0.7663\n",
            "Epoch 96/100\n",
            "37/37 [==============================] - 0s 3ms/step - loss: 0.2852 - accuracy: 0.8869 - val_loss: 0.4947 - val_accuracy: 0.7446\n",
            "Epoch 97/100\n",
            "37/37 [==============================] - 0s 3ms/step - loss: 0.2940 - accuracy: 0.8869 - val_loss: 0.6443 - val_accuracy: 0.7228\n",
            "Epoch 98/100\n",
            "37/37 [==============================] - 0s 3ms/step - loss: 0.2809 - accuracy: 0.8801 - val_loss: 0.5248 - val_accuracy: 0.7717\n",
            "Epoch 99/100\n",
            "37/37 [==============================] - 0s 3ms/step - loss: 0.2991 - accuracy: 0.8774 - val_loss: 0.4768 - val_accuracy: 0.7935\n",
            "Epoch 100/100\n",
            "37/37 [==============================] - 0s 3ms/step - loss: 0.2735 - accuracy: 0.8883 - val_loss: 0.4549 - val_accuracy: 0.7880\n"
          ]
        }
      ]
    },
    {
      "cell_type": "code",
      "source": [
        "y_pred = (model.predict(X_test) > 0.5).astype('int32')"
      ],
      "metadata": {
        "id": "PQGFciGVGg_l"
      },
      "execution_count": 226,
      "outputs": []
    },
    {
      "cell_type": "code",
      "source": [
        "print(\"Accuracy:\", metrics.accuracy_score(y_test, y_pred))\n",
        "print(\"Precision:\", metrics.precision_score(y_test, y_pred))\n",
        "print(\"Recall:\", metrics.recall_score(y_test, y_pred))\n",
        "print(\"F1:\",metrics.f1_score(y_test, y_pred))"
      ],
      "metadata": {
        "colab": {
          "base_uri": "https://localhost:8080/"
        },
        "id": "tTr7FmxGHBx7",
        "outputId": "645bb1bb-e81d-4235-eb23-13a666979502"
      },
      "execution_count": 227,
      "outputs": [
        {
          "output_type": "stream",
          "name": "stdout",
          "text": [
            "Accuracy: 0.8571428571428571\n",
            "Precision: 0.8522727272727273\n",
            "Recall: 0.8823529411764706\n",
            "F1: 0.8670520231213872\n"
          ]
        }
      ]
    },
    {
      "cell_type": "code",
      "source": [
        "cnf_matrix = metrics.confusion_matrix(y_test, predictions)\n",
        "cnf_matrix"
      ],
      "metadata": {
        "colab": {
          "base_uri": "https://localhost:8080/"
        },
        "id": "m06iQMLMHvXH",
        "outputId": "92f79a82-ce8b-4a60-e32a-a3fc73330a1d"
      },
      "execution_count": 228,
      "outputs": [
        {
          "output_type": "execute_result",
          "data": {
            "text/plain": [
              "array([[ 64,  88],\n",
              "       [ 68, 102]])"
            ]
          },
          "metadata": {},
          "execution_count": 228
        }
      ]
    },
    {
      "cell_type": "code",
      "source": [
        "cnf_matrix = metrics.confusion_matrix(y_test, predictions)\n",
        "labels = [0.0, 1.0]\n",
        "fig, ax = plt.subplots()\n",
        "tick_marks = np.arange(len(labels))\n",
        "plt.xticks(tick_marks, labels)\n",
        "plt.yticks(tick_marks, labels)\n",
        "# create heatmap\n",
        "sns.heatmap(pd.DataFrame(cnf_matrix), annot=True, cmap=\"YlGnBu\", fmt='g')\n",
        "ax.xaxis.set_label_position(\"top\")\n",
        "plt.title('Confusion matrix', y=1.1)\n",
        "plt.ylabel('True')\n",
        "plt.xlabel('Predicted')"
      ],
      "metadata": {
        "colab": {
          "base_uri": "https://localhost:8080/",
          "height": 311
        },
        "id": "X5q2efGwHfv-",
        "outputId": "64fa6f70-b67e-4a4d-b9f5-784556b8a04b"
      },
      "execution_count": 229,
      "outputs": [
        {
          "output_type": "execute_result",
          "data": {
            "text/plain": [
              "Text(0.5, 15.0, 'Predicted')"
            ]
          },
          "metadata": {},
          "execution_count": 229
        },
        {
          "output_type": "display_data",
          "data": {
            "text/plain": [
              "<Figure size 432x288 with 2 Axes>"
            ],
            "image/png": "[encoded data removed]"
          },
          "metadata": {
            "needs_background": "light"
          }
        }
      ]
    },
    {
      "cell_type": "code",
      "source": [
        ""
      ],
      "metadata": {
        "id": "V_i8PS_MHyVh"
      },
      "execution_count": null,
      "outputs": []
    }
  ]
}